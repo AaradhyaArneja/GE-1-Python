{
 "cells": [
  {
   "cell_type": "code",
   "execution_count": 2,
   "id": "781760fc",
   "metadata": {},
   "outputs": [
    {
     "name": "stdout",
     "output_type": "stream",
     "text": [
      "Hello World\n"
     ]
    }
   ],
   "source": [
    "print(\"Hello World\")"
   ]
  },
  {
   "cell_type": "code",
   "execution_count": 8,
   "id": "9c0a8d04",
   "metadata": {},
   "outputs": [
    {
     "name": "stdout",
     "output_type": "stream",
     "text": [
      "15\n"
     ]
    }
   ],
   "source": [
    "a=5\n",
    "b=10\n",
    "print(a+b)"
   ]
  },
  {
   "cell_type": "code",
   "execution_count": 5,
   "id": "fcbf75d9",
   "metadata": {},
   "outputs": [
    {
     "name": "stdout",
     "output_type": "stream",
     "text": [
      "68\n"
     ]
    }
   ],
   "source": [
    "a=34\n",
    "b=2\n",
    "print(a*b)"
   ]
  },
  {
   "cell_type": "code",
   "execution_count": 9,
   "id": "1c86796c",
   "metadata": {},
   "outputs": [
    {
     "name": "stdout",
     "output_type": "stream",
     "text": [
      "5 12.5 akshay\n",
      "the datatype of a is  <class 'int'>\n",
      "the datatype of b is <class 'float'>\n",
      "the datatype of c is <class 'str'>\n"
     ]
    }
   ],
   "source": [
    "a=5\n",
    "b=12.50\n",
    "c=\"akshay\"\n",
    "print(a,b,c)\n",
    "print(\"the datatype of a is \" , type(a))\n",
    "print(\"the datatype of b is\" , type(b))\n",
    "print(\"the datatype of c is\" , type(c))"
   ]
  },
  {
   "cell_type": "code",
   "execution_count": 4,
   "id": "2aeed375",
   "metadata": {},
   "outputs": [
    {
     "name": "stdout",
     "output_type": "stream",
     "text": [
      "4\n"
     ]
    }
   ],
   "source": [
    "x=2\n",
    "x=x+2\n",
    "print(x)"
   ]
  },
  {
   "cell_type": "code",
   "execution_count": 6,
   "id": "261a2c3f",
   "metadata": {},
   "outputs": [
    {
     "name": "stdout",
     "output_type": "stream",
     "text": [
      "52\n"
     ]
    }
   ],
   "source": [
    "a=50\n",
    "print(a+b)"
   ]
  },
  {
   "cell_type": "code",
   "execution_count": 7,
   "id": "860686c9",
   "metadata": {},
   "outputs": [
    {
     "name": "stdout",
     "output_type": "stream",
     "text": [
      "50 1234567\n"
     ]
    }
   ],
   "source": [
    "b=1234567\n",
    "fname=\"ankit\"\n",
    "fname=\"arjun\"\n",
    "print(a,b)"
   ]
  },
  {
   "cell_type": "code",
   "execution_count": 10,
   "id": "4d9a27a3",
   "metadata": {},
   "outputs": [
    {
     "name": "stdout",
     "output_type": "stream",
     "text": [
      "5 12.5 akshay\n",
      "the datatype of a is  <class 'int'>\n",
      "the datatype of b is <class 'float'>\n",
      "the datatype of c is <class 'str'>\n"
     ]
    }
   ],
   "source": [
    "a=5\n",
    "b=12.50\n",
    "c=\"akshay\"\n",
    "print(a,b,c)\n",
    "print(\"the datatype of a is \" , type(a))\n",
    "print(\"the datatype of b is\" , type(b))\n",
    "print(\"the datatype of c is\" , type(c))"
   ]
  },
  {
   "cell_type": "code",
   "execution_count": 11,
   "id": "ee1915da",
   "metadata": {},
   "outputs": [
    {
     "name": "stdout",
     "output_type": "stream",
     "text": [
      "Ge-2 50 5.6\n"
     ]
    }
   ],
   "source": [
    "a,b,c= \"Ge-2\" , 50,5.6\n",
    "print(a,b,c)"
   ]
  },
  {
   "cell_type": "code",
   "execution_count": 12,
   "id": "b20441eb",
   "metadata": {},
   "outputs": [
    {
     "name": "stdout",
     "output_type": "stream",
     "text": [
      "ankit kumar delhi UP\n"
     ]
    }
   ],
   "source": [
    "fname=\"ankit\"\n",
    "lname=\"kumar\"\n",
    "city=\"delhi\"\n",
    "state=\"UP\"\n",
    "print(fname , lname ,city,state)"
   ]
  },
  {
   "cell_type": "code",
   "execution_count": 13,
   "id": "3709a48a",
   "metadata": {},
   "outputs": [
    {
     "name": "stdout",
     "output_type": "stream",
     "text": [
      "xis defined as <class 'str'>\n"
     ]
    }
   ],
   "source": [
    "a=\"x\"\n",
    "print(f\"{a}is defined as\" , type(a))"
   ]
  },
  {
   "cell_type": "code",
   "execution_count": 14,
   "id": "dafbf7ab",
   "metadata": {},
   "outputs": [
    {
     "name": "stdout",
     "output_type": "stream",
     "text": [
      "ab\"hello\"c\n",
      "<class 'str'>\n"
     ]
    }
   ],
   "source": [
    "x='ab\"hello\"c'\n",
    "print(x)\n",
    "print(type(x))"
   ]
  },
  {
   "cell_type": "code",
   "execution_count": 15,
   "id": "d37a5f1d",
   "metadata": {},
   "outputs": [
    {
     "name": "stdout",
     "output_type": "stream",
     "text": [
      "Present day Rajasthan came into being when nineteen princely states and the two chiefdoms of Rajputana were merged together between 1948 and 1950. Added to this, in 1956, were Ajmer, Merwar and several other zones. The region has a long history, that goes as far back as the pre-historic stone ages.\n"
     ]
    }
   ],
   "source": [
    "message =\"\"\"Present day Rajasthan came into being when nineteen princely states and the two chiefdoms of Rajputana were merged together between 1948 and 1950. Added to this, in 1956, were Ajmer, Merwar and several other zones. The region has a long history, that goes as far back as the pre-historic stone ages.\"\"\"\n",
    "print(message)"
   ]
  },
  {
   "cell_type": "code",
   "execution_count": 16,
   "id": "8ed031c9",
   "metadata": {},
   "outputs": [
    {
     "name": "stdout",
     "output_type": "stream",
     "text": [
      "arjunagarwal\n"
     ]
    }
   ],
   "source": [
    "fname=\"arjun\"\n",
    "lname=\"agarwal\"\n",
    "print(fname + lname)"
   ]
  },
  {
   "cell_type": "code",
   "execution_count": 17,
   "id": "924187f6",
   "metadata": {},
   "outputs": [
    {
     "name": "stdout",
     "output_type": "stream",
     "text": [
      "welcome\n"
     ]
    }
   ],
   "source": [
    "a=\"welcome\"\n",
    "print(a)"
   ]
  },
  {
   "cell_type": "code",
   "execution_count": 18,
   "id": "6c5937fc",
   "metadata": {},
   "outputs": [
    {
     "name": "stdout",
     "output_type": "stream",
     "text": [
      "30 30 30\n"
     ]
    }
   ],
   "source": [
    "x=y=z=30\n",
    "print(x,y,z)"
   ]
  },
  {
   "cell_type": "code",
   "execution_count": 19,
   "id": "79fd40c5",
   "metadata": {},
   "outputs": [
    {
     "name": "stdout",
     "output_type": "stream",
     "text": [
      "5 10 20 30\n"
     ]
    }
   ],
   "source": [
    "w,x,y,z=5,10,20,30\n",
    "print(w,x,y,z)"
   ]
  },
  {
   "cell_type": "code",
   "execution_count": 20,
   "id": "197618fd",
   "metadata": {},
   "outputs": [
    {
     "name": "stdout",
     "output_type": "stream",
     "text": [
      "-0.6799999999999997\n",
      "<class 'float'>\n"
     ]
    }
   ],
   "source": [
    "a=5\n",
    "b=-5.68\n",
    "c=a+b\n",
    "print(c)\n",
    "print(type(c))"
   ]
  },
  {
   "cell_type": "code",
   "execution_count": 21,
   "id": "23ae5ca3",
   "metadata": {},
   "outputs": [
    {
     "name": "stdout",
     "output_type": "stream",
     "text": [
      "0.8\n"
     ]
    }
   ],
   "source": [
    "d=4/5\n",
    "print(d)"
   ]
  },
  {
   "cell_type": "code",
   "execution_count": 22,
   "id": "9b227b35",
   "metadata": {},
   "outputs": [
    {
     "name": "stdout",
     "output_type": "stream",
     "text": [
      "44.0\n",
      "<class 'float'>\n"
     ]
    }
   ],
   "source": [
    "a=40*1/2+4*6\n",
    "print(a)\n",
    "print(type(a))"
   ]
  },
  {
   "cell_type": "code",
   "execution_count": 23,
   "id": "89e20d20",
   "metadata": {},
   "outputs": [
    {
     "name": "stdout",
     "output_type": "stream",
     "text": [
      "(5, 6, 7) (5, 6, 7) 30\n",
      "<class 'tuple'>\n",
      "20 20 20\n",
      "<class 'int'>\n"
     ]
    }
   ],
   "source": [
    "a=b=c=20\n",
    "x=y=x=5,6,7\n",
    "print(x,y,z)\n",
    "print(type(x))\n",
    "print(a,b,c)\n",
    "print(type(a))"
   ]
  },
  {
   "cell_type": "code",
   "execution_count": 24,
   "id": "059b0b4e",
   "metadata": {},
   "outputs": [
    {
     "name": "stdout",
     "output_type": "stream",
     "text": [
      "2.8\n",
      "<class 'float'>\n"
     ]
    }
   ],
   "source": [
    "x=5.6\n",
    "y=2\n",
    "c=x/y\n",
    "print(c)\n",
    "print(type(c))"
   ]
  },
  {
   "cell_type": "code",
   "execution_count": 25,
   "id": "02d2c16c",
   "metadata": {},
   "outputs": [
    {
     "name": "stdout",
     "output_type": "stream",
     "text": [
      "keshav5\n",
      "<class 'str'>\n"
     ]
    }
   ],
   "source": [
    "a=5\n",
    "b=\"keshav\"\n",
    "x=b+str(a)\n",
    "print(x)\n",
    "print(type(x))"
   ]
  },
  {
   "cell_type": "code",
   "execution_count": 26,
   "id": "f393a2cc",
   "metadata": {},
   "outputs": [
    {
     "name": "stdout",
     "output_type": "stream",
     "text": [
      "5akshay\n"
     ]
    }
   ],
   "source": [
    "a=\"akshay\"\n",
    "b=5\n",
    "print(str(b)+a)\n"
   ]
  },
  {
   "cell_type": "code",
   "execution_count": 27,
   "id": "f9723dce",
   "metadata": {},
   "outputs": [
    {
     "name": "stdout",
     "output_type": "stream",
     "text": [
      "15\n"
     ]
    }
   ],
   "source": [
    "x=5\n",
    "y=10\n",
    "print(x+y)"
   ]
  },
  {
   "cell_type": "code",
   "execution_count": 28,
   "id": "0e542022",
   "metadata": {},
   "outputs": [
    {
     "name": "stdout",
     "output_type": "stream",
     "text": [
      "4.5\n"
     ]
    }
   ],
   "source": [
    "x=10\n",
    "y=5.5\n",
    "print(x-y)"
   ]
  },
  {
   "cell_type": "code",
   "execution_count": 29,
   "id": "97b3ec58",
   "metadata": {},
   "outputs": [
    {
     "name": "stdout",
     "output_type": "stream",
     "text": [
      "Enter your lucky number: 8\n",
      "Enter your age: 18\n",
      "Enter your percentage of class 12th: 98\n",
      "8 18 98\n"
     ]
    }
   ],
   "source": [
    "a=input(\"Enter your lucky number: \")\n",
    "b=input(\"Enter your age: \")\n",
    "c=input(\"Enter your percentage of class 12th: \")\n",
    "print(a,b,c)"
   ]
  },
  {
   "cell_type": "code",
   "execution_count": 30,
   "id": "0741523f",
   "metadata": {},
   "outputs": [
    {
     "name": "stdout",
     "output_type": "stream",
     "text": [
      "Enter first number: 23\n",
      "Enter second number: 22\n",
      "Enter third number: 44\n",
      "The sum of three numbers is 89\n"
     ]
    }
   ],
   "source": [
    "#program to find the sum of 3 numbers \n",
    "a=int(input(\"Enter first number: \"))\n",
    "b=int(input(\"Enter second number: \"))\n",
    "c=int(input(\"Enter third number: \"))\n",
    "d=a+b+c\n",
    "print(f\"The sum of three numbers is {d}\")\n"
   ]
  },
  {
   "cell_type": "code",
   "execution_count": 31,
   "id": "9d418292",
   "metadata": {},
   "outputs": [
    {
     "name": "stdout",
     "output_type": "stream",
     "text": [
      "Enter first number: 33\n",
      "Enter second number: 66\n",
      "Enter third number: 88\n",
      "The sum of three numbers is 5.054054054054054\n"
     ]
    }
   ],
   "source": [
    "#program to find the average sum of 3 numbers \n",
    "a=int(input(\"Enter first number: \"))\n",
    "b=int(input(\"Enter second number: \"))\n",
    "c=int(input(\"Enter third number: \"))\n",
    "d=(a+b+c)/37\n",
    "print(f\"The sum of three numbers is {d}\")\n"
   ]
  },
  {
   "cell_type": "code",
   "execution_count": 32,
   "id": "e74b6cb1",
   "metadata": {},
   "outputs": [
    {
     "name": "stdout",
     "output_type": "stream",
     "text": [
      "3.141592653589793\n"
     ]
    }
   ],
   "source": [
    "import math\n",
    "print(math.pi)"
   ]
  },
  {
   "cell_type": "code",
   "execution_count": 33,
   "id": "c018c437",
   "metadata": {},
   "outputs": [
    {
     "name": "stdout",
     "output_type": "stream",
     "text": [
      "3.141592653589793\n"
     ]
    }
   ],
   "source": [
    "from math import pi\n",
    "print(pi)"
   ]
  },
  {
   "cell_type": "code",
   "execution_count": 34,
   "id": "196abf5a",
   "metadata": {},
   "outputs": [
    {
     "name": "stdout",
     "output_type": "stream",
     "text": [
      "13.75\n",
      "13\n"
     ]
    }
   ],
   "source": [
    "x=55\n",
    "y=4\n",
    "print(x/y)    #Floating divion\n",
    "print(x//y)    #integer divison"
   ]
  },
  {
   "cell_type": "code",
   "execution_count": 35,
   "id": "79e5e215",
   "metadata": {},
   "outputs": [
    {
     "name": "stdout",
     "output_type": "stream",
     "text": [
      "1953125\n"
     ]
    }
   ],
   "source": [
    "x=5\n",
    "y=3\n",
    "z=2\n",
    "print(x**y**z)"
   ]
  },
  {
   "cell_type": "code",
   "execution_count": 36,
   "id": "12acd3b6",
   "metadata": {},
   "outputs": [
    {
     "name": "stdout",
     "output_type": "stream",
     "text": [
      "False\n"
     ]
    }
   ],
   "source": [
    "x=50\n",
    "y=50\n",
    "print(x!=y)   #not equals to"
   ]
  },
  {
   "cell_type": "code",
   "execution_count": 37,
   "id": "42fcb3a2",
   "metadata": {},
   "outputs": [
    {
     "name": "stdout",
     "output_type": "stream",
     "text": [
      "False\n"
     ]
    }
   ],
   "source": [
    "x=True\n",
    "y=False\n",
    "print(x and y)"
   ]
  },
  {
   "cell_type": "code",
   "execution_count": 38,
   "id": "d2aebe2d",
   "metadata": {},
   "outputs": [
    {
     "name": "stdout",
     "output_type": "stream",
     "text": [
      "False\n",
      "False\n"
     ]
    }
   ],
   "source": [
    "x=True\n",
    "print(not x)\n",
    "print(x==False)"
   ]
  },
  {
   "cell_type": "code",
   "execution_count": 39,
   "id": "54dd00b0",
   "metadata": {},
   "outputs": [
    {
     "name": "stdout",
     "output_type": "stream",
     "text": [
      "5\n"
     ]
    }
   ],
   "source": [
    "fname=\"ayush\"\n",
    "lname=\"kumar\"\n",
    "fname=5\n",
    "print(fname)"
   ]
  },
  {
   "cell_type": "code",
   "execution_count": 40,
   "id": "01c93c61",
   "metadata": {},
   "outputs": [
    {
     "name": "stdout",
     "output_type": "stream",
     "text": [
      "False\n"
     ]
    }
   ],
   "source": [
    "x=False\n",
    "y=False\n",
    "z=False\n",
    "print(x or y or z)"
   ]
  },
  {
   "cell_type": "code",
   "execution_count": 41,
   "id": "f4bf201d",
   "metadata": {},
   "outputs": [
    {
     "name": "stdout",
     "output_type": "stream",
     "text": [
      "500\n"
     ]
    }
   ],
   "source": [
    "x=500\n",
    "y=50\n",
    "z=0\n",
    "print(x or y and z)"
   ]
  },
  {
   "cell_type": "code",
   "execution_count": 42,
   "id": "50572882",
   "metadata": {},
   "outputs": [
    {
     "name": "stdout",
     "output_type": "stream",
     "text": [
      "False\n"
     ]
    }
   ],
   "source": [
    "x=50\n",
    "print(not x)"
   ]
  },
  {
   "cell_type": "code",
   "execution_count": 43,
   "id": "b81de75e",
   "metadata": {},
   "outputs": [
    {
     "name": "stdout",
     "output_type": "stream",
     "text": [
      "ankit\n"
     ]
    }
   ],
   "source": [
    "x=\"ankit\"\n",
    "y=\"kumar\"\n",
    "print(x or y)"
   ]
  },
  {
   "cell_type": "code",
   "execution_count": 44,
   "id": "0e21bc42",
   "metadata": {},
   "outputs": [
    {
     "name": "stdout",
     "output_type": "stream",
     "text": [
      "3\n"
     ]
    }
   ],
   "source": [
    "x=12 \n",
    "d=x>>2\n",
    "print(d)"
   ]
  },
  {
   "cell_type": "code",
   "execution_count": 45,
   "id": "67561b09",
   "metadata": {},
   "outputs": [
    {
     "name": "stdout",
     "output_type": "stream",
     "text": [
      "4\n"
     ]
    }
   ],
   "source": [
    "x=156\n",
    "y=38\n",
    "print(x & y)"
   ]
  },
  {
   "cell_type": "code",
   "execution_count": 46,
   "id": "824080c2",
   "metadata": {},
   "outputs": [
    {
     "name": "stdout",
     "output_type": "stream",
     "text": [
      "190\n"
     ]
    }
   ],
   "source": [
    "x=156\n",
    "y=38\n",
    "print(x|y)"
   ]
  },
  {
   "cell_type": "code",
   "execution_count": 47,
   "id": "7b3c7317",
   "metadata": {},
   "outputs": [
    {
     "name": "stdout",
     "output_type": "stream",
     "text": [
      "12\n"
     ]
    }
   ],
   "source": [
    "x=-13\n",
    "print(~x)"
   ]
  },
  {
   "cell_type": "code",
   "execution_count": 48,
   "id": "981665b1",
   "metadata": {},
   "outputs": [
    {
     "name": "stdout",
     "output_type": "stream",
     "text": [
      "-10\n"
     ]
    }
   ],
   "source": [
    "x=9\n",
    "print(~x)\n"
   ]
  },
  {
   "cell_type": "code",
   "execution_count": 49,
   "id": "749434a8",
   "metadata": {},
   "outputs": [
    {
     "name": "stdout",
     "output_type": "stream",
     "text": [
      "-1\n"
     ]
    }
   ],
   "source": [
    "x=0\n",
    "print(~x)"
   ]
  },
  {
   "cell_type": "code",
   "execution_count": 50,
   "id": "00ab9bf4",
   "metadata": {},
   "outputs": [
    {
     "name": "stdout",
     "output_type": "stream",
     "text": [
      "-21\n"
     ]
    }
   ],
   "source": [
    "x=20\n",
    "print(~x)"
   ]
  },
  {
   "cell_type": "code",
   "execution_count": 51,
   "id": "a61ab545",
   "metadata": {},
   "outputs": [
    {
     "name": "stdout",
     "output_type": "stream",
     "text": [
      "15\n"
     ]
    }
   ],
   "source": [
    "x=5\n",
    "x+=10     #x=x+10\n",
    "print(x)"
   ]
  },
  {
   "cell_type": "code",
   "execution_count": 52,
   "id": "d3a470db",
   "metadata": {},
   "outputs": [
    {
     "name": "stdout",
     "output_type": "stream",
     "text": [
      "2\n"
     ]
    }
   ],
   "source": [
    "x=9\n",
    "x-=7    #x=x-7\n",
    "print(x)"
   ]
  },
  {
   "cell_type": "code",
   "execution_count": 53,
   "id": "ad4f078f",
   "metadata": {},
   "outputs": [
    {
     "name": "stdout",
     "output_type": "stream",
     "text": [
      "3\n"
     ]
    }
   ],
   "source": [
    "x=10\n",
    "x//=3\n",
    "print(x)"
   ]
  },
  {
   "cell_type": "code",
   "execution_count": 54,
   "id": "5149d41d",
   "metadata": {},
   "outputs": [
    {
     "name": "stdout",
     "output_type": "stream",
     "text": [
      "1\n"
     ]
    }
   ],
   "source": [
    "x=10\n",
    "x%=3\n",
    "print(x)"
   ]
  },
  {
   "cell_type": "code",
   "execution_count": 55,
   "id": "11e6ec52",
   "metadata": {},
   "outputs": [
    {
     "name": "stdout",
     "output_type": "stream",
     "text": [
      "2254523990384\n",
      "2254604088704\n",
      "False\n"
     ]
    }
   ],
   "source": [
    "x=5\n",
    "y=[2,3,4,5]   #list\n",
    "print(id(x))\n",
    "print(id(y))\n",
    "print(x is y)"
   ]
  },
  {
   "cell_type": "code",
   "execution_count": 56,
   "id": "495503f1",
   "metadata": {},
   "outputs": [
    {
     "name": "stdout",
     "output_type": "stream",
     "text": [
      "True\n"
     ]
    }
   ],
   "source": [
    "x=5 \n",
    "y=5 \n",
    "print(y is x)"
   ]
  },
  {
   "cell_type": "code",
   "execution_count": 57,
   "id": "4477fe40",
   "metadata": {},
   "outputs": [
    {
     "name": "stdout",
     "output_type": "stream",
     "text": [
      "2254604337920\n",
      "2254604085952\n",
      "False\n"
     ]
    }
   ],
   "source": [
    "x=[1,2,3]\n",
    "y=[1,2,3]\n",
    "print(id(x))\n",
    "print(id(y))\n",
    "print(x is y)"
   ]
  },
  {
   "cell_type": "code",
   "execution_count": 58,
   "id": "eb12de44",
   "metadata": {},
   "outputs": [
    {
     "name": "stdout",
     "output_type": "stream",
     "text": [
      "2254604236096\n",
      "2254604343040\n",
      "2254523990448\n",
      "False\n",
      "False\n"
     ]
    }
   ],
   "source": [
    "x=(1,2,3)\n",
    "y=[3,4,5]\n",
    "z=7\n",
    "print(id(x))\n",
    "print(id(y))\n",
    "print(id(z))\n",
    "print(x is z)\n",
    "print(y is x)"
   ]
  },
  {
   "cell_type": "code",
   "execution_count": 59,
   "id": "a22645c8",
   "metadata": {},
   "outputs": [
    {
     "name": "stdout",
     "output_type": "stream",
     "text": [
      "False\n"
     ]
    }
   ],
   "source": [
    "x=\"Hello world\"\n",
    "print(\"Hello\" not in x)"
   ]
  },
  {
   "cell_type": "code",
   "execution_count": 60,
   "id": "580e3bed",
   "metadata": {},
   "outputs": [
    {
     "name": "stdout",
     "output_type": "stream",
     "text": [
      "False\n",
      "True\n"
     ]
    }
   ],
   "source": [
    "#using a list in a list \n",
    "x=[1,2,3,4,[2,3,4],5,6 , [8,9],10,11]\n",
    "y=[8,9]\n",
    "print(y not in x)\n",
    "print(y in x)"
   ]
  },
  {
   "cell_type": "code",
   "execution_count": 61,
   "id": "35eb288d",
   "metadata": {},
   "outputs": [
    {
     "name": "stdout",
     "output_type": "stream",
     "text": [
      "7\n"
     ]
    }
   ],
   "source": [
    "a= 5\n",
    "a=a+2\n",
    "print(a)"
   ]
  },
  {
   "cell_type": "code",
   "execution_count": 64,
   "id": "a944cea1",
   "metadata": {},
   "outputs": [
    {
     "name": "stdout",
     "output_type": "stream",
     "text": [
      "Enter three numbers seperated by commas, enter now: 2\n"
     ]
    },
    {
     "ename": "ValueError",
     "evalue": "not enough values to unpack (expected 3, got 1)",
     "output_type": "error",
     "traceback": [
      "\u001b[1;31m---------------------------------------------------------------------------\u001b[0m",
      "\u001b[1;31mValueError\u001b[0m                                Traceback (most recent call last)",
      "\u001b[1;32m~\\AppData\\Local\\Temp/ipykernel_5540/144054406.py\u001b[0m in \u001b[0;36m<module>\u001b[1;34m\u001b[0m\n\u001b[0;32m      1\u001b[0m \u001b[1;31m#using split(\" \")  for splitting the numbers  like example  # 15 , 23  , 46\u001b[0m\u001b[1;33m\u001b[0m\u001b[1;33m\u001b[0m\u001b[0m\n\u001b[1;32m----> 2\u001b[1;33m \u001b[0mx\u001b[0m \u001b[1;33m,\u001b[0m \u001b[0my\u001b[0m\u001b[1;33m,\u001b[0m \u001b[0mz\u001b[0m\u001b[1;33m=\u001b[0m\u001b[0minput\u001b[0m\u001b[1;33m(\u001b[0m\u001b[1;34m\"Enter three numbers seperated by commas, enter now: \"\u001b[0m\u001b[1;33m)\u001b[0m\u001b[1;33m.\u001b[0m\u001b[0msplit\u001b[0m\u001b[1;33m(\u001b[0m\u001b[1;34m\",\"\u001b[0m\u001b[1;33m)\u001b[0m\u001b[1;33m\u001b[0m\u001b[1;33m\u001b[0m\u001b[0m\n\u001b[0m\u001b[0;32m      3\u001b[0m \u001b[0mprint\u001b[0m\u001b[1;33m(\u001b[0m\u001b[0mx\u001b[0m\u001b[1;33m)\u001b[0m\u001b[1;33m\u001b[0m\u001b[1;33m\u001b[0m\u001b[0m\n\u001b[0;32m      4\u001b[0m \u001b[0mprint\u001b[0m\u001b[1;33m(\u001b[0m\u001b[0my\u001b[0m\u001b[1;33m)\u001b[0m\u001b[1;33m\u001b[0m\u001b[1;33m\u001b[0m\u001b[0m\n\u001b[0;32m      5\u001b[0m \u001b[0mprint\u001b[0m\u001b[1;33m(\u001b[0m\u001b[0mz\u001b[0m\u001b[1;33m)\u001b[0m\u001b[1;33m\u001b[0m\u001b[1;33m\u001b[0m\u001b[0m\n",
      "\u001b[1;31mValueError\u001b[0m: not enough values to unpack (expected 3, got 1)"
     ]
    }
   ],
   "source": [
    "#using split(\" \")  for splitting the numbers  like example  # 15 , 23  , 46\n",
    "x , y, z=input(\"Enter three numbers seperated by commas, enter now: \").split(\",\")\n",
    "print(x)\n",
    "print(y)\n",
    "print(z)"
   ]
  },
  {
   "cell_type": "code",
   "execution_count": 66,
   "id": "386cd555",
   "metadata": {},
   "outputs": [
    {
     "name": "stdout",
     "output_type": "stream",
     "text": [
      "The average of three numbers is 20.0\n"
     ]
    }
   ],
   "source": [
    "x,y,z=10,20,30\n",
    "d=(x+y+z)/3\n",
    "print(f\"The average of three numbers is {d}\")"
   ]
  },
  {
   "cell_type": "code",
   "execution_count": 67,
   "id": "7d6dfb34",
   "metadata": {},
   "outputs": [
    {
     "name": "stdout",
     "output_type": "stream",
     "text": [
      "Enter one number: 23\n",
      "23\n"
     ]
    }
   ],
   "source": [
    "x=input(\"Enter one number: \")\n",
    "print(x)"
   ]
  },
  {
   "cell_type": "code",
   "execution_count": 70,
   "id": "7732584b",
   "metadata": {},
   "outputs": [
    {
     "name": "stdout",
     "output_type": "stream",
     "text": [
      "Enter three numbers seperated by #,enter now: 22 # 44 #66\n",
      "22 \n",
      " 44 \n",
      "66\n"
     ]
    }
   ],
   "source": [
    "x,y,z=input(\"Enter three numbers seperated by #,enter now: \").split(\"#\")\n",
    "print(x)\n",
    "print(y)\n",
    "print(z)"
   ]
  },
  {
   "cell_type": "code",
   "execution_count": 71,
   "id": "5ef04b0e",
   "metadata": {},
   "outputs": [
    {
     "name": "stdout",
     "output_type": "stream",
     "text": [
      "[3, 5.6, 'a', 'Ramunjan']\n",
      "[1, 3, 5.6, 'a', 'Ramunjan', 0.4]\n",
      "[5.6, 'a', 'Ramunjan']\n",
      "['Ramunjan']\n",
      "[3, 5.6, 'a']\n",
      "[1, 3]\n",
      "[1, 3, 5.6, 'a']\n",
      "['a', 'Ramunjan', 0.4]\n"
     ]
    }
   ],
   "source": [
    "list_1=[1,3,5.6,\"a\",\"Ramunjan\",0.4]\n",
    "print(list_1[1:5])     #slicing 1st to 5th element\n",
    "print(list_1[:])       #getting the entire list\n",
    "print(list_1[2:5])    #slicing 2nd to 5th element\n",
    "print(list_1[-2:-1])   #slicing last 2nd to last  1st element\n",
    "print(list_1[-5:-2])    #slicing last 5th to last 2nd element \n",
    "print(list_1[:2])      #slicing all elements till 2nd one\n",
    "print(list_1[:-2])      #slicing all elements till last 2nd one\n",
    "print(list_1[-3:])     #slicing all elements after last 3rd one"
   ]
  },
  {
   "cell_type": "code",
   "execution_count": 72,
   "id": "d7fbd784",
   "metadata": {},
   "outputs": [
    {
     "name": "stdout",
     "output_type": "stream",
     "text": [
      "[5.7, 'y', 'python', 67]\n",
      "['y', 'python', 67, 7.9]\n",
      "[3, 5.7, 3.8, 'python', 67, 7.9]\n",
      "[5.7, 3.8, 'python']\n",
      "[3, 5.7, 3.8, 67, 7.9]\n"
     ]
    }
   ],
   "source": [
    "list_2=[3,5.7,'y','python',67,7.9]\n",
    "print(list_2[1:5])\n",
    "print(list_2[2:])\n",
    "list_2[2]=3.8   #reassigning the value to the 2nd element of the list \n",
    "print(list_2[:])\n",
    "print(list_2[-5:-2])  \n",
    "del list_2[3]   #deleting 3rd elememt from the list\n",
    "print(list_2)"
   ]
  },
  {
   "cell_type": "code",
   "execution_count": 73,
   "id": "d9e3e4c8",
   "metadata": {},
   "outputs": [
    {
     "name": "stdout",
     "output_type": "stream",
     "text": [
      "[1, 2, 'p']\n"
     ]
    },
    {
     "ename": "NameError",
     "evalue": "name 'list_3' is not defined",
     "output_type": "error",
     "traceback": [
      "\u001b[1;31m---------------------------------------------------------------------------\u001b[0m",
      "\u001b[1;31mNameError\u001b[0m                                 Traceback (most recent call last)",
      "\u001b[1;32m~\\AppData\\Local\\Temp/ipykernel_5540/2954314733.py\u001b[0m in \u001b[0;36m<module>\u001b[1;34m\u001b[0m\n\u001b[0;32m      3\u001b[0m \u001b[1;33m\u001b[0m\u001b[0m\n\u001b[0;32m      4\u001b[0m \u001b[1;32mdel\u001b[0m \u001b[0mlist_3\u001b[0m   \u001b[1;31m#deleting the entire list\u001b[0m\u001b[1;33m\u001b[0m\u001b[1;33m\u001b[0m\u001b[0m\n\u001b[1;32m----> 5\u001b[1;33m \u001b[0mprint\u001b[0m\u001b[1;33m(\u001b[0m\u001b[0mlist_3\u001b[0m\u001b[1;33m)\u001b[0m\u001b[1;33m\u001b[0m\u001b[1;33m\u001b[0m\u001b[0m\n\u001b[0m",
      "\u001b[1;31mNameError\u001b[0m: name 'list_3' is not defined"
     ]
    }
   ],
   "source": [
    "list_3=[1,2,'p']\n",
    "print(list_3)\n",
    "\n",
    "del list_3   #deleting the entire list\n",
    "print(list_3)"
   ]
  },
  {
   "cell_type": "code",
   "execution_count": 74,
   "id": "5a7f550d",
   "metadata": {},
   "outputs": [
    {
     "name": "stdout",
     "output_type": "stream",
     "text": [
      "4.5\n",
      "The type of list_1 is :<class 'list'>\n",
      "The type of list_1 is :<class 'list'>\n"
     ]
    }
   ],
   "source": [
    "list_1=[1,9.0,'t',4.5]\n",
    "list_2=['a',5.9]\n",
    "list_2*3\n",
    "print(list_1[3])\n",
    "print(f\"The type of list_1 is :{type(list_1)}\")\n",
    "print(f\"The type of list_1 is :{type(list_2)}\")"
   ]
  },
  {
   "cell_type": "code",
   "execution_count": 75,
   "id": "e507d9d8",
   "metadata": {},
   "outputs": [
    {
     "name": "stdout",
     "output_type": "stream",
     "text": [
      "The type of tup is :<class 'tuple'>\n"
     ]
    }
   ],
   "source": [
    "#Tupples \n",
    "tup=(1,2,'a',4.5,[9,0,7],('r','w'))\n",
    "print(f\"The type of tup is :{type(tup)}\")"
   ]
  },
  {
   "cell_type": "code",
   "execution_count": 76,
   "id": "b081b050",
   "metadata": {},
   "outputs": [
    {
     "name": "stdout",
     "output_type": "stream",
     "text": [
      "The type of tup2 is :<class 'int'>\n"
     ]
    }
   ],
   "source": [
    "tup2=(2)\n",
    "print(f\"The type of tup2 is :{type(tup2)}\")\n"
   ]
  },
  {
   "cell_type": "code",
   "execution_count": 77,
   "id": "014d1d84",
   "metadata": {},
   "outputs": [
    {
     "name": "stdout",
     "output_type": "stream",
     "text": [
      "The type of tup3 is :<class 'tuple'>\n"
     ]
    }
   ],
   "source": [
    "tup3=(2,)\n",
    "print(f\"The type of tup3 is :{type(tup3)}\")"
   ]
  },
  {
   "cell_type": "code",
   "execution_count": 78,
   "id": "2fae0c83",
   "metadata": {},
   "outputs": [
    {
     "name": "stdout",
     "output_type": "stream",
     "text": [
      "[2, 3, 4.9]\n",
      "1\n",
      "(2, 'a', 4.5)\n",
      "(3, 'a', 'o', [2, 3, 4.9], 'q')\n",
      "3\n"
     ]
    }
   ],
   "source": [
    "tup1=(1,2,3,'a','o',[2,3,4.9],'q')\n",
    "print(tup1[5])  #aacessing the 5th element\n",
    "print(tup1[0])   #accessing the 1st element\n",
    "print(tup[-5:-2])  #accessing thr last 5th to 2nd value\n",
    "tup1[4]\n",
    "print(tup1[2:9])\n",
    "\n",
    "print(tup1[2])"
   ]
  },
  {
   "cell_type": "code",
   "execution_count": 79,
   "id": "116fd584",
   "metadata": {},
   "outputs": [
    {
     "name": "stdout",
     "output_type": "stream",
     "text": [
      "(1, 2, 3, 44, 'a', 'c', 'o', 44)\n"
     ]
    }
   ],
   "source": [
    "tup1=(1,2,3,44)\n",
    "tup1=tup1 +('a','c','o',44)\n",
    "print(tup1)"
   ]
  },
  {
   "cell_type": "code",
   "execution_count": 80,
   "id": "e43287e7",
   "metadata": {},
   "outputs": [
    {
     "name": "stdout",
     "output_type": "stream",
     "text": [
      "False\n",
      "False\n"
     ]
    }
   ],
   "source": [
    "tup=(1,'a',7.6,'saa','rose',99,9.78)\n",
    "print(id(tup[0])==id(tup[1]))  #1st  and 2nd elements have different values\n",
    "print(id(tup[2])==id(tup[5]))  #3rd and 6th elements have different values\n"
   ]
  },
  {
   "cell_type": "code",
   "execution_count": 81,
   "id": "7828d64a",
   "metadata": {},
   "outputs": [
    {
     "name": "stdout",
     "output_type": "stream",
     "text": [
      "(1, 2, 3, 4.5, 'a', [2, 3, 4, 5, 4.5])\n"
     ]
    }
   ],
   "source": [
    "tup=(1,2,3,4.5,'a',[2,3,4,5])\n",
    "tup[-1].append(4.5)\n",
    "print(tup)"
   ]
  },
  {
   "cell_type": "code",
   "execution_count": 82,
   "id": "fb30477b",
   "metadata": {},
   "outputs": [
    {
     "name": "stdout",
     "output_type": "stream",
     "text": [
      "[1, 2, 3, 4, 6.5, 6, 'a', 'opoes', [2, 3, 4, 6.5]]\n"
     ]
    }
   ],
   "source": [
    "tup=(1,2,3,4,5,6,'a','opoes',[2,3,4,6.5])\n",
    "list1=list(tup)\n",
    "list1[4]=6.5\n",
    "print(list1)"
   ]
  },
  {
   "cell_type": "code",
   "execution_count": 83,
   "id": "09bfb9a9",
   "metadata": {},
   "outputs": [
    {
     "name": "stdout",
     "output_type": "stream",
     "text": [
      "The type of set is :<class 'set'>\n"
     ]
    }
   ],
   "source": [
    "set={1,2,3,'a','lol',5.5,9,8.7}\n",
    "print(f\"The type of set is :{type(set)}\")\n"
   ]
  },
  {
   "cell_type": "code",
   "execution_count": 84,
   "id": "793f046e",
   "metadata": {},
   "outputs": [
    {
     "name": "stdout",
     "output_type": "stream",
     "text": [
      "The type of set1 is :<class 'set'>\n"
     ]
    }
   ],
   "source": [
    "set1={9.9,99,'aaradhya','ayaan',77,83,(2,3,4.4,5.5)}\n",
    "print(f\"The type of set1 is :{type(set1)}\")\n"
   ]
  },
  {
   "cell_type": "code",
   "execution_count": null,
   "id": "0cc756f7",
   "metadata": {},
   "outputs": [],
   "source": []
  },
  {
   "cell_type": "code",
   "execution_count": null,
   "id": "45ecb177",
   "metadata": {},
   "outputs": [],
   "source": []
  },
  {
   "cell_type": "code",
   "execution_count": 85,
   "id": "e942fd6b",
   "metadata": {},
   "outputs": [
    {
     "name": "stdout",
     "output_type": "stream",
     "text": [
      "{1: 'a', 4: 't', 8: 9}\n",
      "The type of dic is :<class 'dict'>\n",
      "<class 'dict'>\n"
     ]
    }
   ],
   "source": [
    "dic={1:'a',4:'t',8:9}  #first the keys the the values\n",
    "print(dic)\n",
    "print(f\"The type of dic is :{type(dic)}\")\n",
    "\n",
    "print(dict)\n"
   ]
  },
  {
   "cell_type": "code",
   "execution_count": 86,
   "id": "3ba62566",
   "metadata": {},
   "outputs": [
    {
     "name": "stdout",
     "output_type": "stream",
     "text": [
      "{'a': 7, 'e': 4, 'y': 6, 'ab': 15, 'z': 9}\n"
     ]
    }
   ],
   "source": [
    "dict1={'a':7,'e':4,\"y\":6,\"ab\":10,\"z\":9}\n",
    "dict1[\"ab\"]=15\n",
    "print(dict1)"
   ]
  },
  {
   "cell_type": "code",
   "execution_count": 87,
   "id": "a2ac20cb",
   "metadata": {},
   "outputs": [
    {
     "name": "stdout",
     "output_type": "stream",
     "text": [
      "o\n",
      "dict_keys([1, 2, 3, 4, 5])\n",
      "dict_values(['a', 'e', 'w', 'o', 'u'])\n"
     ]
    }
   ],
   "source": [
    "dict1={1:'a',2:'e',3:'w',4:'o',5:'u'}\n",
    "print(dict1.get(4))\n",
    "print(dict1.keys())\n",
    "print(dict1.values())"
   ]
  },
  {
   "cell_type": "code",
   "execution_count": 88,
   "id": "49d79466",
   "metadata": {},
   "outputs": [
    {
     "name": "stdout",
     "output_type": "stream",
     "text": [
      "ayush\n"
     ]
    }
   ],
   "source": [
    "x=\"ankiy\"\n",
    "y=\"ayush\"\n",
    "print(x and y)"
   ]
  },
  {
   "cell_type": "code",
   "execution_count": 89,
   "id": "396f3d9b",
   "metadata": {},
   "outputs": [
    {
     "name": "stdout",
     "output_type": "stream",
     "text": [
      "192\n"
     ]
    }
   ],
   "source": [
    "x=12  # converting the deciaml digit into binary digit\n",
    "print(x<<4)"
   ]
  },
  {
   "cell_type": "code",
   "execution_count": 90,
   "id": "2f541667",
   "metadata": {},
   "outputs": [
    {
     "data": {
      "text/plain": [
       "False"
      ]
     },
     "execution_count": 90,
     "metadata": {},
     "output_type": "execute_result"
    }
   ],
   "source": [
    "x=10\n",
    "y=20\n",
    "x==y"
   ]
  },
  {
   "cell_type": "code",
   "execution_count": 91,
   "id": "a51eea0f",
   "metadata": {},
   "outputs": [
    {
     "data": {
      "text/plain": [
       "True"
      ]
     },
     "execution_count": 91,
     "metadata": {},
     "output_type": "execute_result"
    }
   ],
   "source": [
    "x<y"
   ]
  },
  {
   "cell_type": "code",
   "execution_count": 92,
   "id": "5a82be08",
   "metadata": {},
   "outputs": [
    {
     "name": "stdout",
     "output_type": "stream",
     "text": [
      "False\n"
     ]
    }
   ],
   "source": [
    "z=(x==y)\n",
    "if z:\n",
    "  print(\"True\")\n",
    "else:\n",
    "  print(\"False\")"
   ]
  },
  {
   "cell_type": "code",
   "execution_count": 93,
   "id": "4ac1006b",
   "metadata": {},
   "outputs": [
    {
     "data": {
      "text/plain": [
       "int"
      ]
     },
     "execution_count": 93,
     "metadata": {},
     "output_type": "execute_result"
    }
   ],
   "source": [
    "i=10\n",
    "type(i)"
   ]
  },
  {
   "cell_type": "code",
   "execution_count": 94,
   "id": "9e6e1e42",
   "metadata": {},
   "outputs": [
    {
     "data": {
      "text/plain": [
       "float"
      ]
     },
     "execution_count": 94,
     "metadata": {},
     "output_type": "execute_result"
    }
   ],
   "source": [
    "i=10.0\n",
    "type(i)"
   ]
  },
  {
   "cell_type": "code",
   "execution_count": 95,
   "id": "92b8c524",
   "metadata": {},
   "outputs": [
    {
     "data": {
      "text/plain": [
       "str"
      ]
     },
     "execution_count": 95,
     "metadata": {},
     "output_type": "execute_result"
    }
   ],
   "source": [
    "i=\"a\"\n",
    "type(i)"
   ]
  },
  {
   "cell_type": "code",
   "execution_count": 96,
   "id": "9f525916",
   "metadata": {},
   "outputs": [
    {
     "data": {
      "text/plain": [
       "str"
      ]
     },
     "execution_count": 96,
     "metadata": {},
     "output_type": "execute_result"
    }
   ],
   "source": [
    "i=\"Hello\"\n",
    "type(i)"
   ]
  },
  {
   "cell_type": "code",
   "execution_count": 97,
   "id": "b5a76846",
   "metadata": {},
   "outputs": [
    {
     "name": "stdout",
     "output_type": "stream",
     "text": [
      "Hello  World\n"
     ]
    }
   ],
   "source": [
    "bw=\"Hello  World\"\n",
    "print(bw)"
   ]
  },
  {
   "cell_type": "code",
   "execution_count": 98,
   "id": "99128279",
   "metadata": {},
   "outputs": [
    {
     "data": {
      "text/plain": [
       "list"
      ]
     },
     "execution_count": 98,
     "metadata": {},
     "output_type": "execute_result"
    }
   ],
   "source": [
    "x=[1]\n",
    "type(x)"
   ]
  },
  {
   "cell_type": "code",
   "execution_count": 99,
   "id": "0975df30",
   "metadata": {},
   "outputs": [
    {
     "data": {
      "text/plain": [
       "list"
      ]
     },
     "execution_count": 99,
     "metadata": {},
     "output_type": "execute_result"
    }
   ],
   "source": [
    "y=[1,2,3]\n",
    "type(y)"
   ]
  },
  {
   "cell_type": "code",
   "execution_count": 100,
   "id": "7642614b",
   "metadata": {},
   "outputs": [
    {
     "data": {
      "text/plain": [
       "list"
      ]
     },
     "execution_count": 100,
     "metadata": {},
     "output_type": "execute_result"
    }
   ],
   "source": [
    "z=list([1,2,3])\n",
    "type(z)"
   ]
  },
  {
   "cell_type": "code",
   "execution_count": 101,
   "id": "05192602",
   "metadata": {},
   "outputs": [
    {
     "name": "stdout",
     "output_type": "stream",
     "text": [
      "3\n"
     ]
    }
   ],
   "source": [
    "print(z[2])"
   ]
  },
  {
   "cell_type": "code",
   "execution_count": 102,
   "id": "5f528683",
   "metadata": {},
   "outputs": [
    {
     "name": "stdout",
     "output_type": "stream",
     "text": [
      "[1, 2, 3, 4, 5, 10]\n"
     ]
    }
   ],
   "source": [
    "stack=[1,2,3,4,5]\n",
    "stack.append(10)\n",
    "print(stack)"
   ]
  },
  {
   "cell_type": "code",
   "execution_count": 103,
   "id": "db314599",
   "metadata": {},
   "outputs": [
    {
     "data": {
      "text/plain": [
       "3"
      ]
     },
     "execution_count": 103,
     "metadata": {},
     "output_type": "execute_result"
    }
   ],
   "source": [
    "stack.pop()\n",
    "stack.pop()\n",
    "stack.pop()\n",
    "stack.pop()"
   ]
  },
  {
   "cell_type": "code",
   "execution_count": 104,
   "id": "c9cdd052",
   "metadata": {},
   "outputs": [
    {
     "name": "stdout",
     "output_type": "stream",
     "text": [
      "[1, 2]\n"
     ]
    }
   ],
   "source": [
    "print(stack)"
   ]
  },
  {
   "cell_type": "code",
   "execution_count": 105,
   "id": "96a886da",
   "metadata": {},
   "outputs": [
    {
     "data": {
      "text/plain": [
       "[2, 3, 4, 5, 7]"
      ]
     },
     "execution_count": 105,
     "metadata": {},
     "output_type": "execute_result"
    }
   ],
   "source": [
    "queue=[1,2,3,4,5]\n",
    "queue.append(7)\n",
    "queue\n",
    "queue.pop(0)\n",
    "queue"
   ]
  },
  {
   "cell_type": "code",
   "execution_count": 106,
   "id": "fd400d6e",
   "metadata": {},
   "outputs": [
    {
     "data": {
      "text/plain": [
       "1"
      ]
     },
     "execution_count": 106,
     "metadata": {},
     "output_type": "execute_result"
    }
   ],
   "source": [
    "x=[1,2,3,4,5]\n",
    "y=(\"a\",\"b\",\"c\",\"d\")\n",
    "x[0]"
   ]
  },
  {
   "cell_type": "code",
   "execution_count": 107,
   "id": "a147d04d",
   "metadata": {},
   "outputs": [
    {
     "data": {
      "text/plain": [
       "[1, 2, 10, 4, 5]"
      ]
     },
     "execution_count": 107,
     "metadata": {},
     "output_type": "execute_result"
    }
   ],
   "source": [
    "x[2]=10\n",
    "x"
   ]
  },
  {
   "cell_type": "code",
   "execution_count": 108,
   "id": "1efabe81",
   "metadata": {},
   "outputs": [],
   "source": [
    "x={\"a\":1 , \"b\":2,\"c\":3,\"d\":4}\n",
    "del x[\"c\"]"
   ]
  },
  {
   "cell_type": "code",
   "execution_count": 109,
   "id": "f8751471",
   "metadata": {},
   "outputs": [
    {
     "data": {
      "text/plain": [
       "dict_keys(['a', 'b', 'd'])"
      ]
     },
     "execution_count": 109,
     "metadata": {},
     "output_type": "execute_result"
    }
   ],
   "source": [
    "x.keys()"
   ]
  },
  {
   "cell_type": "code",
   "execution_count": 110,
   "id": "c1343c08",
   "metadata": {},
   "outputs": [
    {
     "data": {
      "text/plain": [
       "dict_values([1, 2, 4])"
      ]
     },
     "execution_count": 110,
     "metadata": {},
     "output_type": "execute_result"
    }
   ],
   "source": [
    "x.values()"
   ]
  },
  {
   "cell_type": "code",
   "execution_count": 111,
   "id": "9d34def1",
   "metadata": {},
   "outputs": [
    {
     "data": {
      "text/plain": [
       "<_io.TextIOWrapper name='claims.csv' mode='w' encoding='cp1252'>"
      ]
     },
     "execution_count": 111,
     "metadata": {},
     "output_type": "execute_result"
    }
   ],
   "source": [
    "f=open(\"claims.csv\",\"w\")\n",
    "f.write(\"Test\")\n",
    "f.close()\n",
    "f"
   ]
  },
  {
   "cell_type": "code",
   "execution_count": 112,
   "id": "51704747",
   "metadata": {},
   "outputs": [
    {
     "ename": "FileNotFoundError",
     "evalue": "[Errno 2] No such file or directory: 'claims.cts.txt'",
     "output_type": "error",
     "traceback": [
      "\u001b[1;31m---------------------------------------------------------------------------\u001b[0m",
      "\u001b[1;31mFileNotFoundError\u001b[0m                         Traceback (most recent call last)",
      "\u001b[1;32m~\\AppData\\Local\\Temp/ipykernel_5540/19571769.py\u001b[0m in \u001b[0;36m<module>\u001b[1;34m\u001b[0m\n\u001b[1;32m----> 1\u001b[1;33m \u001b[0mf\u001b[0m\u001b[1;33m=\u001b[0m\u001b[0mopen\u001b[0m\u001b[1;33m(\u001b[0m\u001b[1;34m\"claims.cts.txt\"\u001b[0m\u001b[1;33m,\u001b[0m\u001b[1;34m\"r\"\u001b[0m\u001b[1;33m)\u001b[0m\u001b[1;33m\u001b[0m\u001b[1;33m\u001b[0m\u001b[0m\n\u001b[0m\u001b[0;32m      2\u001b[0m \u001b[0mprint\u001b[0m\u001b[1;33m(\u001b[0m\u001b[0mf\u001b[0m\u001b[1;33m.\u001b[0m\u001b[0mread\u001b[0m\u001b[1;33m(\u001b[0m\u001b[1;33m)\u001b[0m\u001b[1;33m)\u001b[0m\u001b[1;33m\u001b[0m\u001b[1;33m\u001b[0m\u001b[0m\n",
      "\u001b[1;31mFileNotFoundError\u001b[0m: [Errno 2] No such file or directory: 'claims.cts.txt'"
     ]
    }
   ],
   "source": [
    "f=open(\"claims.cts.txt\",\"r\")\n",
    "print(f.read())"
   ]
  },
  {
   "cell_type": "code",
   "execution_count": 116,
   "id": "bc63b368",
   "metadata": {},
   "outputs": [
    {
     "name": "stdout",
     "output_type": "stream",
     "text": [
      "2254575107248\n",
      "2254604469104\n"
     ]
    }
   ],
   "source": [
    "a=\"foo\"\n",
    "print(id(a))\n",
    "\n",
    "a+= \"tball\"\n",
    "print(id(a))"
   ]
  },
  {
   "cell_type": "code",
   "execution_count": 117,
   "id": "7ab9583c",
   "metadata": {},
   "outputs": [
    {
     "name": "stdout",
     "output_type": "stream",
     "text": [
      "12\n"
     ]
    }
   ],
   "source": [
    "x=12\n",
    "print(x)"
   ]
  },
  {
   "cell_type": "code",
   "execution_count": 118,
   "id": "0931b755",
   "metadata": {},
   "outputs": [
    {
     "name": "stdout",
     "output_type": "stream",
     "text": [
      "b is greater than a\n"
     ]
    }
   ],
   "source": [
    "a=10\n",
    "b=20\n",
    "if b > a:\n",
    "  print(\"b is greater than a\")\n",
    "else:\n",
    "  print(\"a is greater than b\")\n",
    "\n"
   ]
  },
  {
   "cell_type": "code",
   "execution_count": 119,
   "id": "029d46a6",
   "metadata": {},
   "outputs": [
    {
     "name": "stdout",
     "output_type": "stream",
     "text": [
      "a is greater than b\n"
     ]
    }
   ],
   "source": [
    "a=100\n",
    "b=20\n",
    "if b > a:\n",
    "  print(\"b is greater than a\")\n",
    "elif b==a :\n",
    "  prinht(\"a  and b are equal\")\n",
    "else:\n",
    "  print(\"a is greater than b\")\n",
    "\n"
   ]
  },
  {
   "cell_type": "code",
   "execution_count": 120,
   "id": "c8b7b249",
   "metadata": {},
   "outputs": [
    {
     "name": "stdout",
     "output_type": "stream",
     "text": [
      "Both conditions are true\n"
     ]
    }
   ],
   "source": [
    "a=20\n",
    "b=3\n",
    "c=5\n",
    "if a > b and a>c: \n",
    "  print(\"Both conditions are true\")\n"
   ]
  },
  {
   "cell_type": "code",
   "execution_count": 121,
   "id": "ce237b88",
   "metadata": {},
   "outputs": [
    {
     "name": "stdout",
     "output_type": "stream",
     "text": [
      "At least one of the conditions is True\n"
     ]
    }
   ],
   "source": [
    "a=20\n",
    "b=3\n",
    "c=500\n",
    "if a>b or b> c:\n",
    "  print(\"At least one of the conditions is True\")"
   ]
  },
  {
   "cell_type": "code",
   "execution_count": 122,
   "id": "18828f87",
   "metadata": {},
   "outputs": [
    {
     "name": "stdout",
     "output_type": "stream",
     "text": [
      "Abova ten\n"
     ]
    }
   ],
   "source": [
    "x=40\n",
    "if x>10 :\n",
    "  print(\"Abova ten\")\n",
    "elif x>20:\n",
    "  print(\"Above twenty\")\n",
    "else:\n",
    "  print(\"but not above 20\")"
   ]
  },
  {
   "cell_type": "code",
   "execution_count": 123,
   "id": "e7a69da5",
   "metadata": {},
   "outputs": [
    {
     "name": "stdout",
     "output_type": "stream",
     "text": [
      "alberteinstein\n"
     ]
    }
   ],
   "source": [
    "first_name=\"albert\"\n",
    "last_name=\"einstein\"\n",
    "full_name=first_name +  last_name\n",
    "print(full_name)"
   ]
  },
  {
   "cell_type": "code",
   "execution_count": 125,
   "id": "e4b2bc44",
   "metadata": {},
   "outputs": [
    {
     "name": "stdout",
     "output_type": "stream",
     "text": [
      "The alien's color is green\n"
     ]
    }
   ],
   "source": [
    "alien={\"color\":\"green\" , \"points\": 5}\n",
    "print(\"The alien's color is \" + alien[\"color\"])"
   ]
  },
  {
   "cell_type": "code",
   "execution_count": 126,
   "id": "82f598f9",
   "metadata": {},
   "outputs": [
    {
     "name": "stdout",
     "output_type": "stream",
     "text": [
      "{'color': 'green', 'points': 5, 'x_position': 0}\n"
     ]
    }
   ],
   "source": [
    "alien[\"x_position\"]=0  #adding x_positiin at the end\n",
    "print(alien)"
   ]
  },
  {
   "cell_type": "code",
   "execution_count": 127,
   "id": "e67846c5",
   "metadata": {},
   "outputs": [
    {
     "name": "stdout",
     "output_type": "stream",
     "text": [
      "eric loves 17\n",
      "ever loves 4\n"
     ]
    }
   ],
   "source": [
    "fav_numbers={\"eric\":17 , \"ever\":4}\n",
    "for name, number in fav_numbers.items():\n",
    "  print(name + \" loves \" + str(number))\n"
   ]
  },
  {
   "cell_type": "code",
   "execution_count": 128,
   "id": "41637ae6",
   "metadata": {},
   "outputs": [
    {
     "name": "stdout",
     "output_type": "stream",
     "text": [
      "[1, 4, 9, 16, 25, 36, 49, 64, 81, 100]\n"
     ]
    }
   ],
   "source": [
    "squares=[x**2 for x in range(1,11)]\n",
    "print(squares)"
   ]
  },
  {
   "cell_type": "code",
   "execution_count": 129,
   "id": "bf02d77e",
   "metadata": {},
   "outputs": [
    {
     "name": "stdout",
     "output_type": "stream",
     "text": [
      "trek\n",
      "redline\n",
      "giant\n"
     ]
    }
   ],
   "source": [
    "bikes=[\"trek\" , \"redline\" , \"giant\"]\n",
    "for i in bikes:\n",
    " print(i)"
   ]
  },
  {
   "cell_type": "code",
   "execution_count": 130,
   "id": "3d6a6ce7",
   "metadata": {},
   "outputs": [
    {
     "name": "stdout",
     "output_type": "stream",
     "text": [
      "[1]\n",
      "[1, 4]\n",
      "[1, 4, 9]\n",
      "[1, 4, 9, 16]\n",
      "[1, 4, 9, 16, 25]\n",
      "[1, 4, 9, 16, 25, 36]\n",
      "[1, 4, 9, 16, 25, 36, 49]\n",
      "[1, 4, 9, 16, 25, 36, 49, 64]\n",
      "[1, 4, 9, 16, 25, 36, 49, 64, 81]\n",
      "[1, 4, 9, 16, 25, 36, 49, 64, 81, 100]\n"
     ]
    }
   ],
   "source": [
    "squares=[]\n",
    "for x in range(1,11):\n",
    "  squares.append(x**2)\n",
    "  print(squares)"
   ]
  },
  {
   "cell_type": "code",
   "execution_count": 131,
   "id": "cd67302c",
   "metadata": {},
   "outputs": [
    {
     "name": "stdout",
     "output_type": "stream",
     "text": [
      "['sam', 'bob']\n"
     ]
    }
   ],
   "source": [
    "finishers=[\"sam\" , \"bob\" , \"ada\",\"bea\"]\n",
    "first_two= finishers[:2]\n",
    "print(first_two)"
   ]
  },
  {
   "cell_type": "code",
   "execution_count": 132,
   "id": "920dcb84",
   "metadata": {},
   "outputs": [
    {
     "name": "stdout",
     "output_type": "stream",
     "text": [
      "What is your name?Aradhya\n",
      "Hello, Aradhya\n"
     ]
    }
   ],
   "source": [
    "name=input(\"What is your name?\")\n",
    "print(f\"Hello, {name}\")"
   ]
  },
  {
   "cell_type": "code",
   "execution_count": 133,
   "id": "b1f4b782",
   "metadata": {},
   "outputs": [
    {
     "name": "stdout",
     "output_type": "stream",
     "text": [
      "What is your age?33\n",
      "What's the value of pi?3.14\n"
     ]
    }
   ],
   "source": [
    "age=input(\"What is your age?\")\n",
    "age=int(age)\n",
    "pi=input(\"What's the value of pi?\")\n",
    "pi=float(pi)"
   ]
  },
  {
   "cell_type": "code",
   "execution_count": 134,
   "id": "25c9435b",
   "metadata": {},
   "outputs": [
    {
     "name": "stdout",
     "output_type": "stream",
     "text": [
      "2\n",
      "3\n",
      "4\n",
      "5\n",
      "6\n"
     ]
    }
   ],
   "source": [
    "current_value=1\n",
    "while current_value <= 5:\n",
    "  current_value+=1\n",
    "  print(current_value)"
   ]
  },
  {
   "cell_type": "code",
   "execution_count": 136,
   "id": "f517eace",
   "metadata": {},
   "outputs": [
    {
     "name": "stdout",
     "output_type": "stream",
     "text": [
      "What is your message? quit\n",
      "quit\n"
     ]
    }
   ],
   "source": [
    "msg=\"\"\n",
    "while msg!= \"quit\":\n",
    "  msg=input(\"What is your message? \")\n",
    "  print(msg)"
   ]
  },
  {
   "cell_type": "code",
   "execution_count": 137,
   "id": "2da6151f",
   "metadata": {},
   "outputs": [
    {
     "name": "stdout",
     "output_type": "stream",
     "text": [
      "Hello!\n"
     ]
    }
   ],
   "source": [
    "def greet_user():\n",
    "  #\"\"Display a simple greeting.\"\"\"\n",
    "  print(\"Hello!\")\n",
    "\n",
    "greet_user()\n",
    "  "
   ]
  },
  {
   "cell_type": "code",
   "execution_count": 140,
   "id": "bb928871",
   "metadata": {},
   "outputs": [
    {
     "name": "stdout",
     "output_type": "stream",
     "text": [
      "Hello Aaradhya!\n"
     ]
    }
   ],
   "source": [
    "def greet_user(username):\n",
    "  \"\"\"Display a personalised greeting.\"\"\"\n",
    "  print(\"Hello \"+ username +\"!\")\n",
    "\n",
    "greet_user(\"Aaradhya\")"
   ]
  },
  {
   "cell_type": "code",
   "execution_count": 141,
   "id": "31d435a6",
   "metadata": {},
   "outputs": [
    {
     "name": "stdout",
     "output_type": "stream",
     "text": [
      "Have a baricon pizza\n",
      "Have a capcicum pizza\n"
     ]
    }
   ],
   "source": [
    "def make_pizza(topping =\"baricon\"):\n",
    "  \"\"\"Make  a single topping pizza.\"\"\"\n",
    "  print(\"Have a \" +topping+ \" pizza\")\n",
    "make_pizza()\n",
    "make_pizza(\"capcicum\")"
   ]
  },
  {
   "cell_type": "code",
   "execution_count": 142,
   "id": "d5d64855",
   "metadata": {},
   "outputs": [
    {
     "name": "stdout",
     "output_type": "stream",
     "text": [
      "8\n"
     ]
    }
   ],
   "source": [
    "def add_numbers(x,y):\n",
    "  \"\"\"Add two numbers  and return the sum.\"\"\"\n",
    "  return x+y\n",
    "sum= add_numbers(3,5)\n",
    "print(sum)"
   ]
  },
  {
   "cell_type": "code",
   "execution_count": 143,
   "id": "7e0dfaf3",
   "metadata": {},
   "outputs": [
    {
     "name": "stdout",
     "output_type": "stream",
     "text": [
      "How many tickets do you want? 3\n",
      "Your tickets are printing\n"
     ]
    }
   ],
   "source": [
    "prompt=input(\"How many tickets do you want? \")\n",
    "num_ticktes=int(prompt)\n",
    "try: num_ticktes=int(num_ticktes)\n",
    "except valueerror :print(\"Please try again\")\n",
    "else:\n",
    "  print(\"Your tickets are printing\")\n",
    "\n"
   ]
  },
  {
   "cell_type": "code",
   "execution_count": 144,
   "id": "e5af4650",
   "metadata": {},
   "outputs": [
    {
     "name": "stdout",
     "output_type": "stream",
     "text": [
      "0\n",
      "1\n",
      "2\n",
      "3\n",
      "4\n",
      "5\n",
      "6\n",
      "7\n",
      "8\n",
      "9\n",
      "10\n",
      "11\n",
      "12\n",
      "13\n",
      "14\n",
      "15\n",
      "16\n",
      "17\n",
      "18\n",
      "19\n",
      "20\n",
      "21\n",
      "22\n",
      "23\n",
      "24\n",
      "25\n",
      "26\n",
      "27\n",
      "28\n",
      "29\n",
      "30\n",
      "31\n",
      "32\n",
      "33\n",
      "34\n",
      "35\n",
      "36\n",
      "37\n",
      "38\n",
      "39\n",
      "40\n",
      "41\n",
      "42\n",
      "43\n",
      "44\n",
      "45\n",
      "46\n",
      "47\n",
      "48\n",
      "49\n",
      "50\n",
      "51\n",
      "52\n",
      "53\n",
      "54\n",
      "55\n",
      "56\n",
      "57\n",
      "58\n",
      "59\n",
      "60\n",
      "61\n",
      "62\n",
      "63\n",
      "64\n",
      "65\n",
      "66\n",
      "67\n",
      "68\n",
      "69\n",
      "70\n",
      "71\n",
      "72\n",
      "73\n",
      "74\n",
      "75\n",
      "76\n",
      "77\n",
      "78\n",
      "79\n",
      "80\n",
      "81\n",
      "82\n",
      "83\n",
      "84\n",
      "85\n",
      "86\n",
      "87\n",
      "88\n",
      "89\n",
      "90\n",
      "91\n",
      "92\n",
      "93\n",
      "94\n",
      "95\n",
      "96\n",
      "97\n",
      "98\n",
      "99\n",
      "100\n",
      "101\n",
      "102\n",
      "103\n",
      "104\n",
      "105\n",
      "106\n",
      "107\n",
      "108\n",
      "109\n",
      "110\n",
      "111\n",
      "112\n",
      "113\n",
      "114\n",
      "115\n",
      "116\n",
      "117\n",
      "118\n",
      "119\n",
      "120\n",
      "121\n",
      "122\n",
      "123\n",
      "124\n",
      "125\n",
      "126\n",
      "127\n",
      "128\n",
      "129\n",
      "130\n",
      "131\n",
      "132\n",
      "133\n",
      "134\n",
      "135\n",
      "136\n",
      "137\n",
      "138\n",
      "139\n",
      "140\n",
      "141\n",
      "142\n",
      "143\n",
      "144\n",
      "145\n",
      "146\n",
      "147\n",
      "148\n",
      "149\n",
      "150\n",
      "151\n",
      "152\n",
      "153\n",
      "154\n",
      "155\n",
      "156\n",
      "157\n",
      "158\n",
      "159\n",
      "160\n",
      "161\n",
      "162\n",
      "163\n",
      "164\n",
      "165\n",
      "166\n",
      "167\n",
      "168\n",
      "169\n",
      "170\n",
      "171\n",
      "172\n",
      "173\n",
      "174\n",
      "175\n",
      "176\n",
      "177\n",
      "178\n",
      "179\n",
      "180\n",
      "181\n",
      "182\n",
      "183\n",
      "184\n",
      "185\n",
      "186\n",
      "187\n",
      "188\n",
      "189\n",
      "190\n",
      "191\n",
      "192\n",
      "193\n",
      "194\n",
      "195\n",
      "196\n",
      "197\n",
      "198\n",
      "199\n",
      "200\n",
      "201\n",
      "202\n",
      "203\n",
      "204\n",
      "205\n",
      "206\n",
      "207\n",
      "208\n",
      "209\n",
      "210\n",
      "211\n",
      "212\n",
      "213\n",
      "214\n",
      "215\n",
      "216\n",
      "217\n",
      "218\n",
      "219\n",
      "220\n",
      "221\n",
      "222\n",
      "223\n",
      "224\n",
      "225\n",
      "226\n",
      "227\n",
      "228\n",
      "229\n",
      "230\n",
      "231\n",
      "232\n",
      "233\n",
      "234\n",
      "235\n",
      "236\n",
      "237\n",
      "238\n",
      "239\n",
      "240\n",
      "241\n",
      "242\n",
      "243\n",
      "244\n",
      "245\n",
      "246\n",
      "247\n",
      "248\n",
      "249\n",
      "250\n",
      "251\n",
      "252\n",
      "253\n",
      "254\n",
      "255\n",
      "256\n",
      "257\n",
      "258\n",
      "259\n",
      "260\n",
      "261\n",
      "262\n",
      "263\n",
      "264\n",
      "265\n",
      "266\n",
      "267\n",
      "268\n",
      "269\n",
      "270\n",
      "271\n",
      "272\n",
      "273\n",
      "274\n",
      "275\n",
      "276\n",
      "277\n",
      "278\n",
      "279\n",
      "280\n",
      "281\n",
      "282\n",
      "283\n",
      "284\n",
      "285\n",
      "286\n",
      "287\n",
      "288\n",
      "289\n",
      "290\n",
      "291\n",
      "292\n",
      "293\n",
      "294\n",
      "295\n",
      "296\n",
      "297\n",
      "298\n",
      "299\n",
      "300\n",
      "301\n",
      "302\n",
      "303\n",
      "304\n",
      "305\n",
      "306\n",
      "307\n",
      "308\n",
      "309\n",
      "310\n",
      "311\n",
      "312\n",
      "313\n",
      "314\n",
      "315\n",
      "316\n",
      "317\n",
      "318\n",
      "319\n",
      "320\n",
      "321\n",
      "322\n",
      "323\n",
      "324\n",
      "325\n",
      "326\n",
      "327\n",
      "328\n",
      "329\n",
      "330\n",
      "331\n",
      "332\n",
      "333\n",
      "334\n",
      "335\n",
      "336\n",
      "337\n",
      "338\n",
      "339\n",
      "340\n",
      "341\n",
      "342\n",
      "343\n",
      "344\n",
      "345\n",
      "346\n",
      "347\n",
      "348\n",
      "349\n",
      "350\n",
      "351\n",
      "352\n",
      "353\n",
      "354\n",
      "355\n",
      "356\n",
      "357\n",
      "358\n",
      "359\n",
      "360\n",
      "361\n",
      "362\n",
      "363\n",
      "364\n",
      "365\n",
      "366\n",
      "367\n",
      "368\n",
      "369\n",
      "370\n",
      "371\n",
      "372\n",
      "373\n",
      "374\n",
      "375\n",
      "376\n",
      "377\n",
      "378\n",
      "379\n",
      "380\n",
      "381\n",
      "382\n",
      "383\n",
      "384\n",
      "385\n",
      "386\n",
      "387\n",
      "388\n",
      "389\n",
      "390\n",
      "391\n",
      "392\n",
      "393\n",
      "394\n",
      "395\n",
      "396\n",
      "397\n",
      "398\n",
      "399\n",
      "400\n",
      "401\n",
      "402\n",
      "403\n",
      "404\n",
      "405\n",
      "406\n",
      "407\n",
      "408\n",
      "409\n",
      "410\n",
      "411\n",
      "412\n",
      "413\n",
      "414\n",
      "415\n",
      "416\n",
      "417\n",
      "418\n",
      "419\n",
      "420\n",
      "421\n",
      "422\n",
      "423\n",
      "424\n",
      "425\n",
      "426\n",
      "427\n",
      "428\n",
      "429\n",
      "430\n",
      "431\n",
      "432\n",
      "433\n",
      "434\n",
      "435\n",
      "436\n",
      "437\n",
      "438\n",
      "439\n",
      "440\n",
      "441\n",
      "442\n",
      "443\n",
      "444\n",
      "445\n",
      "446\n",
      "447\n",
      "448\n",
      "449\n",
      "450\n",
      "451\n",
      "452\n",
      "453\n",
      "454\n",
      "455\n",
      "456\n",
      "457\n",
      "458\n",
      "459\n",
      "460\n",
      "461\n",
      "462\n",
      "463\n",
      "464\n",
      "465\n",
      "466\n",
      "467\n",
      "468\n",
      "469\n",
      "470\n",
      "471\n",
      "472\n",
      "473\n",
      "474\n",
      "475\n",
      "476\n",
      "477\n",
      "478\n",
      "479\n",
      "480\n",
      "481\n",
      "482\n",
      "483\n",
      "484\n",
      "485\n",
      "486\n",
      "487\n",
      "488\n",
      "489\n",
      "490\n",
      "491\n",
      "492\n",
      "493\n",
      "494\n",
      "495\n",
      "496\n",
      "497\n",
      "498\n",
      "499\n",
      "500\n",
      "501\n",
      "502\n",
      "503\n",
      "504\n",
      "505\n",
      "506\n",
      "507\n",
      "508\n",
      "509\n",
      "510\n",
      "511\n",
      "512\n",
      "513\n",
      "514\n",
      "515\n",
      "516\n",
      "517\n",
      "518\n",
      "519\n",
      "520\n",
      "521\n",
      "522\n",
      "523\n",
      "524\n",
      "525\n",
      "526\n",
      "527\n",
      "528\n",
      "529\n",
      "530\n",
      "531\n",
      "532\n",
      "533\n",
      "534\n",
      "535\n",
      "536\n",
      "537\n",
      "538\n",
      "539\n",
      "540\n",
      "541\n",
      "542\n",
      "543\n",
      "544\n",
      "545\n",
      "546\n",
      "547\n",
      "548\n",
      "549\n",
      "550\n",
      "551\n",
      "552\n",
      "553\n",
      "554\n",
      "555\n",
      "556\n",
      "557\n",
      "558\n",
      "559\n",
      "560\n",
      "561\n",
      "562\n",
      "563\n",
      "564\n",
      "565\n",
      "566\n",
      "567\n",
      "568\n",
      "569\n",
      "570\n",
      "571\n",
      "572\n",
      "573\n",
      "574\n",
      "575\n",
      "576\n",
      "577\n",
      "578\n",
      "579\n",
      "580\n",
      "581\n",
      "582\n",
      "583\n",
      "584\n",
      "585\n",
      "586\n",
      "587\n",
      "588\n",
      "589\n",
      "590\n",
      "591\n",
      "592\n",
      "593\n",
      "594\n",
      "595\n",
      "596\n",
      "597\n",
      "598\n",
      "599\n",
      "600\n",
      "601\n",
      "602\n",
      "603\n",
      "604\n",
      "605\n",
      "606\n",
      "607\n",
      "608\n",
      "609\n",
      "610\n",
      "611\n",
      "612\n",
      "613\n",
      "614\n",
      "615\n",
      "616\n",
      "617\n",
      "618\n",
      "619\n",
      "620\n",
      "621\n",
      "622\n",
      "623\n",
      "624\n",
      "625\n",
      "626\n",
      "627\n",
      "628\n",
      "629\n",
      "630\n",
      "631\n",
      "632\n",
      "633\n",
      "634\n",
      "635\n",
      "636\n",
      "637\n",
      "638\n",
      "639\n",
      "640\n",
      "641\n",
      "642\n",
      "643\n",
      "644\n",
      "645\n",
      "646\n",
      "647\n",
      "648\n",
      "649\n",
      "650\n",
      "651\n",
      "652\n",
      "653\n",
      "654\n",
      "655\n",
      "656\n",
      "657\n",
      "658\n",
      "659\n",
      "660\n",
      "661\n",
      "662\n",
      "663\n",
      "664\n",
      "665\n",
      "666\n",
      "667\n",
      "668\n",
      "669\n",
      "670\n",
      "671\n",
      "672\n",
      "673\n",
      "674\n",
      "675\n",
      "676\n",
      "677\n",
      "678\n",
      "679\n",
      "680\n",
      "681\n",
      "682\n",
      "683\n",
      "684\n",
      "685\n",
      "686\n",
      "687\n",
      "688\n",
      "689\n",
      "690\n",
      "691\n",
      "692\n",
      "693\n",
      "694\n",
      "695\n",
      "696\n",
      "697\n",
      "698\n",
      "699\n",
      "700\n",
      "701\n",
      "702\n",
      "703\n",
      "704\n",
      "705\n",
      "706\n",
      "707\n",
      "708\n",
      "709\n",
      "710\n",
      "711\n",
      "712\n",
      "713\n",
      "714\n",
      "715\n",
      "716\n",
      "717\n",
      "718\n",
      "719\n",
      "720\n",
      "721\n",
      "722\n",
      "723\n",
      "724\n",
      "725\n",
      "726\n",
      "727\n",
      "728\n",
      "729\n",
      "730\n",
      "731\n",
      "732\n",
      "733\n",
      "734\n",
      "735\n",
      "736\n",
      "737\n",
      "738\n",
      "739\n",
      "740\n",
      "741\n",
      "742\n",
      "743\n",
      "744\n",
      "745\n",
      "746\n",
      "747\n",
      "748\n",
      "749\n",
      "750\n",
      "751\n",
      "752\n",
      "753\n",
      "754\n",
      "755\n",
      "756\n",
      "757\n",
      "758\n",
      "759\n",
      "760\n",
      "761\n",
      "762\n",
      "763\n",
      "764\n",
      "765\n",
      "766\n",
      "767\n",
      "768\n",
      "769\n",
      "770\n",
      "771\n",
      "772\n",
      "773\n",
      "774\n",
      "775\n",
      "776\n",
      "777\n",
      "778\n",
      "779\n",
      "780\n",
      "781\n",
      "782\n",
      "783\n",
      "784\n",
      "785\n",
      "786\n",
      "787\n",
      "788\n",
      "789\n",
      "790\n",
      "791\n",
      "792\n",
      "793\n",
      "794\n",
      "795\n",
      "796\n",
      "797\n",
      "798\n",
      "799\n",
      "800\n",
      "801\n",
      "802\n",
      "803\n",
      "804\n",
      "805\n",
      "806\n",
      "807\n",
      "808\n",
      "809\n",
      "810\n",
      "811\n",
      "812\n",
      "813\n",
      "814\n",
      "815\n",
      "816\n",
      "817\n",
      "818\n",
      "819\n",
      "820\n",
      "821\n",
      "822\n",
      "823\n",
      "824\n",
      "825\n",
      "826\n",
      "827\n",
      "828\n",
      "829\n",
      "830\n",
      "831\n",
      "832\n",
      "833\n",
      "834\n",
      "835\n",
      "836\n",
      "837\n",
      "838\n",
      "839\n",
      "840\n",
      "841\n",
      "842\n",
      "843\n",
      "844\n",
      "845\n",
      "846\n",
      "847\n",
      "848\n",
      "849\n",
      "850\n",
      "851\n",
      "852\n",
      "853\n",
      "854\n",
      "855\n",
      "856\n",
      "857\n",
      "858\n",
      "859\n",
      "860\n",
      "861\n",
      "862\n",
      "863\n",
      "864\n",
      "865\n",
      "866\n",
      "867\n",
      "868\n",
      "869\n",
      "870\n",
      "871\n",
      "872\n",
      "873\n",
      "874\n",
      "875\n",
      "876\n",
      "877\n",
      "878\n",
      "879\n",
      "880\n",
      "881\n",
      "882\n",
      "883\n",
      "884\n",
      "885\n",
      "886\n",
      "887\n",
      "888\n",
      "889\n",
      "890\n",
      "891\n",
      "892\n",
      "893\n",
      "894\n",
      "895\n",
      "896\n",
      "897\n",
      "898\n",
      "899\n",
      "900\n",
      "901\n",
      "902\n",
      "903\n",
      "904\n",
      "905\n",
      "906\n",
      "907\n",
      "908\n",
      "909\n",
      "910\n",
      "911\n",
      "912\n",
      "913\n",
      "914\n",
      "915\n",
      "916\n",
      "917\n",
      "918\n",
      "919\n",
      "920\n",
      "921\n",
      "922\n",
      "923\n",
      "924\n",
      "925\n",
      "926\n",
      "927\n",
      "928\n",
      "929\n",
      "930\n",
      "931\n",
      "932\n",
      "933\n",
      "934\n",
      "935\n",
      "936\n",
      "937\n",
      "938\n",
      "939\n",
      "940\n",
      "941\n",
      "942\n",
      "943\n",
      "944\n",
      "945\n",
      "946\n",
      "947\n",
      "948\n",
      "949\n",
      "950\n",
      "951\n",
      "952\n",
      "953\n",
      "954\n",
      "955\n",
      "956\n",
      "957\n",
      "958\n",
      "959\n",
      "960\n",
      "961\n",
      "962\n",
      "963\n",
      "964\n",
      "965\n",
      "966\n",
      "967\n",
      "968\n",
      "969\n",
      "970\n",
      "971\n",
      "972\n",
      "973\n",
      "974\n",
      "975\n",
      "976\n",
      "977\n",
      "978\n",
      "979\n",
      "980\n",
      "981\n",
      "982\n",
      "983\n",
      "984\n",
      "985\n",
      "986\n",
      "987\n",
      "988\n",
      "989\n",
      "990\n",
      "991\n",
      "992\n",
      "993\n",
      "994\n",
      "995\n",
      "996\n",
      "997\n",
      "998\n",
      "999\n",
      "1000\n"
     ]
    }
   ],
   "source": [
    "for number in range (1001):\n",
    "  print(number)"
   ]
  },
  {
   "cell_type": "code",
   "execution_count": 145,
   "id": "6269b3cb",
   "metadata": {},
   "outputs": [
    {
     "name": "stdout",
     "output_type": "stream",
     "text": [
      "[1, 2, 3, 4, 5, 6, 7, 8, 9, 10, 11, 12, 13, 14, 15, 16, 17, 18, 19]\n"
     ]
    }
   ],
   "source": [
    "numbers=list(range(1,20))\n",
    "print(numbers)"
   ]
  },
  {
   "cell_type": "code",
   "execution_count": 146,
   "id": "d09bf3fd",
   "metadata": {},
   "outputs": [
    {
     "name": "stdout",
     "output_type": "stream",
     "text": [
      "2\n",
      "99\n"
     ]
    }
   ],
   "source": [
    "ages=[93,99,99,88,77,66,2,3,4]\n",
    "youngest=min(ages)\n",
    "eldest=max(ages)\n",
    "print(youngest)\n",
    "print(eldest)"
   ]
  },
  {
   "cell_type": "code",
   "execution_count": 147,
   "id": "2b348e48",
   "metadata": {},
   "outputs": [
    {
     "name": "stdout",
     "output_type": "stream",
     "text": [
      "1\n",
      "[1]\n",
      "4\n",
      "[1, 4]\n",
      "9\n",
      "[1, 4, 9]\n",
      "16\n",
      "[1, 4, 9, 16]\n",
      "25\n",
      "[1, 4, 9, 16, 25]\n",
      "36\n",
      "[1, 4, 9, 16, 25, 36]\n",
      "49\n",
      "[1, 4, 9, 16, 25, 36, 49]\n",
      "64\n",
      "[1, 4, 9, 16, 25, 36, 49, 64]\n",
      "81\n",
      "[1, 4, 9, 16, 25, 36, 49, 64, 81]\n",
      "100\n",
      "[1, 4, 9, 16, 25, 36, 49, 64, 81, 100]\n"
     ]
    }
   ],
   "source": [
    "squares1=[]\n",
    "for x in range(1,11):\n",
    "  squares=x**2\n",
    "  squares1.append(squares)\n",
    "  print(squares)\n",
    "  print(squares1)"
   ]
  },
  {
   "cell_type": "code",
   "execution_count": 148,
   "id": "bb3e8259",
   "metadata": {},
   "outputs": [
    {
     "name": "stdout",
     "output_type": "stream",
     "text": [
      "['KAI']\n",
      "['KAI', 'ABA0']\n",
      "['KAI', 'ABA0', 'GAG']\n",
      "['KAI', 'ABA0', 'GAG', 'LEL']\n"
     ]
    }
   ],
   "source": [
    "names=[\"kai\",\"aba0\",\"gag\",\"lel\"]\n",
    "upper_names=[]\n",
    "for name in names:\n",
    "  upper_names.append(name.upper())\n",
    "  print(upper_names)"
   ]
  },
  {
   "cell_type": "code",
   "execution_count": 149,
   "id": "1aba17bc",
   "metadata": {},
   "outputs": [
    {
     "name": "stdout",
     "output_type": "stream",
     "text": [
      "['KAI', 'ABA0', 'GAG', 'LEL']\n"
     ]
    }
   ],
   "source": [
    "names=[\"kai\",\"aba0\",\"gag\",\"lel\"]\n",
    "upper_names=[]\n",
    "for name in names:\n",
    "  upper_names.append(name.upper())\n",
    "print(upper_names)"
   ]
  },
  {
   "cell_type": "code",
   "execution_count": 150,
   "id": "cef37a71",
   "metadata": {},
   "outputs": [
    {
     "name": "stdout",
     "output_type": "stream",
     "text": [
      "red\n",
      "8\n"
     ]
    }
   ],
   "source": [
    "aline_0={\"color\":\"red\" , \"points\" :8}\n",
    "print(aline_0[\"color\"])\n",
    "print(aline_0[\"points\"])\n"
   ]
  },
  {
   "cell_type": "code",
   "execution_count": 151,
   "id": "35636a6a",
   "metadata": {},
   "outputs": [
    {
     "name": "stdout",
     "output_type": "stream",
     "text": [
      "[{'last': 'currie', 'first': 'marrie', 'username': 'mcurrie'}]\n"
     ]
    }
   ],
   "source": [
    "users=[]  #embedding a dictionary into a list\n",
    "new_user={\"last\":\"currie\", \"first\":\"marrie\" , \"username\":\"mcurrie\"}\n",
    "users.append(new_user)\n",
    "print(users)"
   ]
  },
  {
   "cell_type": "code",
   "execution_count": 152,
   "id": "2b374cad",
   "metadata": {},
   "outputs": [
    {
     "name": "stdout",
     "output_type": "stream",
     "text": [
      "last:currie\n",
      "first:marrie\n",
      "username:mcurrie\n",
      "\n",
      "\n"
     ]
    }
   ],
   "source": [
    "for user_dict in users:\n",
    "  for k, v in user_dict.items():\n",
    "    print(k + \":\" +v)\n",
    "  print(\"\\n\")\n",
    "    "
   ]
  },
  {
   "cell_type": "code",
   "execution_count": 153,
   "id": "e8c3d518",
   "metadata": {},
   "outputs": [
    {
     "name": "stdout",
     "output_type": "stream",
     "text": [
      "last:currie\n",
      "\n",
      "\n",
      "first:marrie\n",
      "\n",
      "\n",
      "username:mcurrie\n",
      "\n",
      "\n"
     ]
    }
   ],
   "source": [
    "for user_dict in users:\n",
    "  for k, v in user_dict.items():\n",
    "    print(k + \":\" +v)\n",
    "    print(\"\\n\")"
   ]
  },
  {
   "cell_type": "code",
   "execution_count": 154,
   "id": "20ac54dc",
   "metadata": {},
   "outputs": [
    {
     "name": "stdout",
     "output_type": "stream",
     "text": [
      "jen:\n",
      "-python\n",
      "-ruby\n",
      "sarah:\n",
      "-c\n",
      "edward:\n",
      "-ruby\n",
      "-go\n",
      "phil:\n",
      "-puython\n",
      "-haskell\n"
     ]
    }
   ],
   "source": [
    "fav_languages={\"jen\":[\"python\",\"ruby\"], \"sarah\":[\"c\"], \"edward\":[\"ruby\",\"go\"] , \"phil\":[\"puython\",\"haskell\"]}\n",
    "for name, lange in fav_languages.items():\n",
    "  print(name + \":\")\n",
    "  for lang in lange:\n",
    "    print(\"-\" + lang)"
   ]
  },
  {
   "cell_type": "code",
   "execution_count": 155,
   "id": "805839e8",
   "metadata": {},
   "outputs": [
    {
     "data": {
      "text/plain": [
       "True"
      ]
     },
     "execution_count": 155,
     "metadata": {},
     "output_type": "execute_result"
    }
   ],
   "source": [
    "car=\"bmw\"\n",
    "car==\"bmw\"  #Checking condition\n"
   ]
  },
  {
   "cell_type": "code",
   "execution_count": 156,
   "id": "c483155b",
   "metadata": {},
   "outputs": [
    {
     "data": {
      "text/plain": [
       "True"
      ]
     },
     "execution_count": 156,
     "metadata": {},
     "output_type": "execute_result"
    }
   ],
   "source": [
    "car==\"audi\"\n",
    "car.lower()==\"bmw\""
   ]
  },
  {
   "cell_type": "code",
   "execution_count": 157,
   "id": "085d60da",
   "metadata": {},
   "outputs": [
    {
     "name": "stdout",
     "output_type": "stream",
     "text": [
      "Your cost is $ 5\n"
     ]
    }
   ],
   "source": [
    "age=12\n",
    "if age <4:\n",
    "  price=0\n",
    "elif age < 18:\n",
    "  price= 5\n",
    "else :\n",
    "  price= 10\n",
    "print(f\"Your cost is $ {price}\")"
   ]
  },
  {
   "cell_type": "code",
   "execution_count": 158,
   "id": "87bb1188",
   "metadata": {},
   "outputs": [
    {
     "data": {
      "text/plain": [
       "False"
      ]
     },
     "execution_count": 158,
     "metadata": {},
     "output_type": "execute_result"
    }
   ],
   "source": [
    "players=[\"ali\",\"jsmine\",\"shefali\",\"shehnaaz\"]\n",
    "\"ali\" in players\n",
    "\"shefali\" in players\n",
    "\"roshni\" in players"
   ]
  },
  {
   "cell_type": "code",
   "execution_count": 159,
   "id": "1140e4fc",
   "metadata": {},
   "outputs": [
    {
     "name": "stdout",
     "output_type": "stream",
     "text": [
      "You can play!\n"
     ]
    }
   ],
   "source": [
    "banned_users=[\"ann\",\"harry\",\"eric\",\"lara\"]\n",
    "user=\"mehak\"\n",
    "if user not in banned_users:\n",
    "  print(\"You can play!\")"
   ]
  },
  {
   "cell_type": "code",
   "execution_count": 160,
   "id": "da5e95da",
   "metadata": {},
   "outputs": [
    {
     "name": "stdout",
     "output_type": "stream",
     "text": [
      "Players Ashi \n",
      "Players Aliza \n",
      "Players Vanshu \n",
      "Players Cary \n",
      "We have no players yet.\n"
     ]
    }
   ],
   "source": [
    "players=['ashi','aliza','vanshu','cary']\n",
    "if players:\n",
    "  for player in players :\n",
    "    print(f\"Players {player.title()} \")\n",
    "  else:\n",
    "    print(\"We have no players yet.\")\n"
   ]
  },
  {
   "cell_type": "code",
   "execution_count": 161,
   "id": "37d7bb37",
   "metadata": {},
   "outputs": [
    {
     "name": "stdout",
     "output_type": "stream",
     "text": [
      "What is your age? :18\n",
      "You can vote.\n"
     ]
    }
   ],
   "source": [
    "age=int(input(\"What is your age? :\"))\n",
    "if age >= 18:\n",
    "  print(\"You can vote.\")\n",
    "else:\n",
    "  print(\"You can't vote.\")"
   ]
  },
  {
   "cell_type": "code",
   "execution_count": null,
   "id": "67a2e206",
   "metadata": {},
   "outputs": [
    {
     "name": "stdout",
     "output_type": "stream",
     "text": [
      "\n",
      "Tell me something , and I'llrepeat it back to you\n",
      "Enter 'quit' to end the program :quit\n",
      "Present day Rajasthan came into being when nineteen princely states and the two chiefdoms of Rajputana were merged together between 1948 and 1950. Added to this, in 1956, were Ajmer, Merwar and several other zones. The region has a long history, that goes as far back as the pre-historic stone ages.\n",
      "\n",
      "Tell me something , and I'llrepeat it back to you\n",
      "Enter 'quit' to end the program :quit\n",
      "Present day Rajasthan came into being when nineteen princely states and the two chiefdoms of Rajputana were merged together between 1948 and 1950. Added to this, in 1956, were Ajmer, Merwar and several other zones. The region has a long history, that goes as far back as the pre-historic stone ages.\n"
     ]
    }
   ],
   "source": [
    "prompt=\"\\nTell me something , and I'll\"\n",
    "prompt+=\"repeat it back to you\"\n",
    "prompt+= \"\\nEnter 'quit' to end the program :\"\n",
    "active = True\n",
    "while active:\n",
    "  messgae = input(prompt)\n",
    "  if message ==\"quit\":\n",
    "    active= False\n",
    "  else:\n",
    "    print(message)"
   ]
  },
  {
   "cell_type": "code",
   "execution_count": null,
   "id": "dcedbfc5",
   "metadata": {},
   "outputs": [],
   "source": [
    "prompt=\"\\nWhich cities  have you visited? \"\n",
    "prompt+=\"\\nEnter quit when you are done. \"\n",
    "while True:\n",
    "  city=input(prompt)\n",
    "  if city==\"quit\":\n",
    "    break\n",
    "  else:\n",
    "    print(\"I've een to \" + str(city) +\"!\" )\n",
    "  "
   ]
  },
  {
   "cell_type": "code",
   "execution_count": null,
   "id": "a4e61af1",
   "metadata": {},
   "outputs": [],
   "source": [
    "banned_users=[\"lai\",\"alzagr\",\"kapil\",\"alia\",\"kiara\"]\n",
    "prom=\"\\nAdd a player to your team.\"\n",
    "prom+=\"\\nEnter 'quit' when you are done\"\n",
    "players=[]\n",
    "while True:\n",
    "  player = input(prom)\n",
    "  if player ==\"quit\":\n",
    "    break\n",
    "  elif player in banned_users:\n",
    "    print(f\"{player} is banned , You can't play.\")\n",
    "  else:\n",
    "    print(\"\\nYour team: \")\n",
    "    for player in players :\n",
    "      print(player)\n"
   ]
  },
  {
   "cell_type": "code",
   "execution_count": null,
   "id": "be4749b7",
   "metadata": {},
   "outputs": [],
   "source": [
    "def greet_user(username):\n",
    "  \"\"\"Display a simple greeting\"\"\"\n",
    "  print(\"Hello,\" + username +\"!\")\n",
    "    \n",
    "greet_user(\"jesse\")\n",
    "  "
   ]
  },
  {
   "cell_type": "code",
   "execution_count": null,
   "id": "41490ba2",
   "metadata": {},
   "outputs": [],
   "source": [
    "def describe_pet(animal, name):\n",
    "  \"\"\"Display infromion about  a prt.\"\"\"\n",
    "  print(\"\\nI have  a \"+animal +\".\")\n",
    "  print(\"Its name is \"+ \"harry\" +\".\" )\n",
    "describe_pet(\"dog\",\"derry\")"
   ]
  },
  {
   "cell_type": "code",
   "execution_count": null,
   "id": "86393677",
   "metadata": {},
   "outputs": [],
   "source": [
    "def describe_pet(animal, name):\n",
    "  \"\"\"Display infromion about  a prt.\"\"\"\n",
    "  print(\"\\nI have  a \"+ animal +\".\")\n",
    "  print(\"Its name is \"+ name +\".\" )\n",
    "describe_pet(\"hamster\",\"harry\")\n",
    "describe_pet(\"dog\",\"jerry\")\n"
   ]
  },
  {
   "cell_type": "code",
   "execution_count": null,
   "id": "6e12fde9",
   "metadata": {},
   "outputs": [],
   "source": [
    "def describe_pet(animal , name=None):\n",
    "  \"\"\"Display information about a pet\"\"\"\n",
    "  print(\"\\nI have a \" + animal + \".\")\n",
    "  if name :\n",
    "    print(\"It's name is \" name + \".\")\n",
    "describe_pet(\"dog\")\n"
   ]
  },
  {
   "cell_type": "code",
   "execution_count": null,
   "id": "cfc6e835",
   "metadata": {},
   "outputs": [],
   "source": [
    "def get_full_name(first , last):\n",
    "  \"\"\"Return a neatly formatted full name.\"\"\"\n",
    "  full_name=first + \" \" +last\n",
    "  return full_name.title()\n",
    "\n",
    "musician=get_full_name(\"jimi\",\"hendrix\")\n",
    "print(musician)"
   ]
  },
  {
   "cell_type": "code",
   "execution_count": null,
   "id": "0a88a8fd",
   "metadata": {},
   "outputs": [],
   "source": [
    "def describe_pet(animal,name):\n",
    "  #\"\"\"Display information about a pet .\"\"\"\n",
    "  print(f\"I have a {animal}\")\n",
    "  print(f\"It's name is {name}\")\n",
    "\n",
    "describe_pet(\"dog\",\"jeery\")"
   ]
  },
  {
   "cell_type": "code",
   "execution_count": null,
   "id": "de744a61",
   "metadata": {},
   "outputs": [],
   "source": [
    "def describe_pet(animal,name):\n",
    "  \"\"\"Display information about a pet .\"\"\"\n",
    "  print(f\"I have a {animal}\")\n",
    "  print(f\"It's name is {name}\")\n",
    "describe_pet(name=\"jeery\",animal=\"dog\")"
   ]
  },
  {
   "cell_type": "code",
   "execution_count": null,
   "id": "afb6bef0",
   "metadata": {},
   "outputs": [],
   "source": [
    "def describe_pet(name,animal=\"dog\"):\n",
    "  \"\"\"Display information about a pet .\"\"\"\n",
    "  print(f\"I have a {animal}\")\n",
    "  print(f\"It's name is {name}\")\n",
    "describe_pet(\"harry\",\"hamster\")\n"
   ]
  },
  {
   "cell_type": "code",
   "execution_count": 3,
   "id": "e73063a7",
   "metadata": {},
   "outputs": [
    {
     "name": "stdout",
     "output_type": "stream",
     "text": [
      "I have a snake\n"
     ]
    }
   ],
   "source": [
    "def describe_pet(animal,name=None):\n",
    "  \"\"\"Display information about a pet .\"\"\"\n",
    "  print(f\"I have a {animal}\")\n",
    "  if name:\n",
    "    print(f\"It's name is {name}\")\n",
    "describe_pet(\"snake\")"
   ]
  },
  {
   "cell_type": "code",
   "execution_count": 4,
   "id": "3da0437e",
   "metadata": {},
   "outputs": [
    {
     "name": "stdout",
     "output_type": "stream",
     "text": [
      "Petrick Winslow\n"
     ]
    }
   ],
   "source": [
    "def get_full_name(first,last):\n",
    "  \"\"\"Resturn a nestly formatted full name.\"\"\"\n",
    "  full_name=first + \" \"+ last\n",
    "  return full_name.title()\n",
    "mus=get_full_name(\"petrick\",\"winslow\")\n",
    "print(mus)"
   ]
  },
  {
   "cell_type": "code",
   "execution_count": 5,
   "id": "0b2a8b85",
   "metadata": {},
   "outputs": [
    {
     "name": "stdout",
     "output_type": "stream",
     "text": [
      "{'first': 'aaradhya', 'last': 'arneja'}\n"
     ]
    }
   ],
   "source": [
    "def build_person(first , last):\n",
    "  \"\"\"Return a dictionay of information about a person.\"\"\"\n",
    "  person={\"first\":first , \"last\" :last}\n",
    "  return person\n",
    "mus=build_person(\"aaradhya\",\"arneja\")\n",
    "print(mus)\n"
   ]
  },
  {
   "cell_type": "code",
   "execution_count": null,
   "id": "0d1282d4",
   "metadata": {},
   "outputs": [],
   "source": [
    "def build_person(first ,last , age=None):\n",
    "  \"\"\"Return a dictionay of information about a person.\"\"\"\n",
    "  person={\"first\":first , \"last\" :last}\n",
    "  if age :\n",
    "    person[\"age\"]=age\n",
    "    return person\n",
    "mus=build_person(\"javed\",\"akhtar\",44)\n",
    "print(mus)"
   ]
  },
  {
   "cell_type": "code",
   "execution_count": null,
   "id": "d6a201a6",
   "metadata": {},
   "outputs": [],
   "source": [
    "def greet_user(names):\n",
    "  \"\"\"Print a simple greeting to everyone.\"\"\"\n",
    "  for name in names:\n",
    "    msg=\"Hello, \"+ name +\"!\"\n",
    "    print(msg)\n",
    "username=[\"hanah\",\"juhi\",\"lara\"]\n",
    "greet_user(username)"
   ]
  },
  {
   "cell_type": "code",
   "execution_count": null,
   "id": "66286715",
   "metadata": {},
   "outputs": [],
   "source": [
    "def print_model(umprinted,printed):\n",
    "  \"\"\"3rd print a set of modesls.\"\"\"\n",
    "  while unprinted:\n",
    "    current_model=unprinted.pop()\n",
    "    print(\"Printing \" + current_model)\n",
    "    printed.append(current_model)\n",
    "unprinted=[\"phone case\",\"pendant\",\"ring\"]\n",
    "printed=[]\n",
    "print_model(unprinted,printed)\n",
    "print(\"\\nUnprinted\",printed)\n",
    "print(\"Prinetd\",printed)\n"
   ]
  },
  {
   "cell_type": "code",
   "execution_count": 2,
   "id": "04350650",
   "metadata": {},
   "outputs": [
    {
     "name": "stdout",
     "output_type": "stream",
     "text": [
      "Printing bracelet\n",
      "Printing ring\n",
      "Printing pendant\n",
      "Printing phone case\n",
      "\n",
      "original: ['bracelet', 'ring', 'pendant', 'phone case']\n",
      "Printed ['bracelet', 'ring', 'pendant', 'phone case']\n"
     ]
    }
   ],
   "source": [
    "def print_models(unprinted,printed):\n",
    "  \"\"\"3rd print a set of modesls.\"\"\"\n",
    "  while unprinted:\n",
    "    current_model=unprinted.pop()\n",
    "    print(\"Printing \" + current_model)\n",
    "    printed.append(current_model)\n",
    "original=[\"phone case\", \"pendant\",\"ring\",\"bracelet\"]\n",
    "printed=[]\n",
    "print_models(original[:],printed)\n",
    "print(\"\\noriginal:\",printed)\n",
    "print(\"Printed\",printed)\n"
   ]
  },
  {
   "cell_type": "code",
   "execution_count": 1,
   "id": "331454fd",
   "metadata": {},
   "outputs": [
    {
     "name": "stdout",
     "output_type": "stream",
     "text": [
      "Making a small pizza\n",
      "toppings:\n",
      "-p\n",
      "-e\n",
      "-p\n",
      "-r\n",
      "-i\n",
      "-c\n",
      "-o\n",
      "-r\n",
      "-n\n",
      "Making a large pizza\n",
      "toppings:\n",
      "-o\n",
      "-l\n",
      "-i\n",
      "-v\n",
      "-e\n",
      "-s\n"
     ]
    }
   ],
   "source": [
    "def make_pizza(size, toppings):\n",
    "  \"\"\"Make a pizza.\"\"\"\n",
    "  print(\"Making a \" + size +\" pizza\")\n",
    "  print(\"toppings:\")\n",
    "  for topping in toppings:\n",
    "    print(\"-\" + topping)\n",
    "make_pizza(\"small\",\"pepricorn\")\n",
    "make_pizza(\"large\",\"olives\")\n"
   ]
  },
  {
   "cell_type": "code",
   "execution_count": null,
   "id": "161e965c",
   "metadata": {},
   "outputs": [],
   "source": []
  }
 ],
 "metadata": {
  "kernelspec": {
   "display_name": "Python 3 (ipykernel)",
   "language": "python",
   "name": "python3"
  },
  "language_info": {
   "codemirror_mode": {
    "name": "ipython",
    "version": 3
   },
   "file_extension": ".py",
   "mimetype": "text/x-python",
   "name": "python",
   "nbconvert_exporter": "python",
   "pygments_lexer": "ipython3",
   "version": "3.10.1"
  }
 },
 "nbformat": 4,
 "nbformat_minor": 5
}
