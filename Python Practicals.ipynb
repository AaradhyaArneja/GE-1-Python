{
 "cells": [
  {
   "cell_type": "code",
   "execution_count": 1,
   "id": "c45a0561",
   "metadata": {},
   "outputs": [
    {
     "data": {
      "text/plain": [
       "True"
      ]
     },
     "execution_count": 1,
     "metadata": {},
     "output_type": "execute_result"
    }
   ],
   "source": [
    "#Q1\n",
    "#Arithmetic Operators\n",
    "\n",
    "33.33//11\n",
    "((6+3)+2)\n",
    "(2*(3*2))\n",
    "10*-5\n",
    "50/5*6\n",
    "18%5\n",
    "52+63\n",
    "58-36\n",
    "\n",
    "#Relational Operators\n",
    "\n",
    "25==25\n",
    "25<25\n",
    "25>25\n",
    "25<=25\n",
    "25>=25\n",
    "25!=25\n",
    "\n",
    "\n",
    "#Logical Operators\n",
    "\n",
    "(10<5)and(2<3)\n",
    "(10<5)or(2<3)\n",
    "not(10<5)"
   ]
  },
  {
   "cell_type": "code",
   "execution_count": 2,
   "id": "6077cb80",
   "metadata": {},
   "outputs": [
    {
     "name": "stdout",
     "output_type": "stream",
     "text": [
      "1 \n",
      "2 1 \n",
      "3 2 1 \n",
      "4 3 2 1 \n",
      "Enter no of rows: 5\n",
      "    1 \n",
      "   1 2 1 \n",
      "  1 2 3 2 1 \n",
      " 1 2 3 4 3 2 1 \n",
      "1 2 3 4 5 4 3 2 1 \n",
      " 1 2 3 4 3 2 1 \n",
      "  1 2 3 2 1 \n",
      "   1 2 1 \n",
      "    1 \n"
     ]
    }
   ],
   "source": [
    "#Q2\n",
    "#a)\n",
    "for x in range(1,5):\n",
    "    for y in range(x,0,-1):\n",
    "        print(y,end=\" \")\n",
    "    print()\n",
    "    \n",
    "#b)\n",
    "n = int(input('Enter no of rows: '))\n",
    "for i in range(1, n+1):\n",
    "    for j in range(1, n-i+1):\n",
    "        print(end=' ')\n",
    "    for j in range (1, i+ 1):\n",
    "        print(j, end=' ')\n",
    "    for j in range (i-1, 0, -1):\n",
    "        print(j, end=' ')\n",
    "    print()\n",
    "for i in range (1,n):\n",
    "    for j in range(1, i+1):\n",
    "        print(end=' ')\n",
    "    for j in range (1, n-i):\n",
    "        print(j, end=' ')\n",
    "    for j in range (n-i, 0, -1):\n",
    "        print(j, end=' ')\n",
    "    print()\n"
   ]
  },
  {
   "cell_type": "code",
   "execution_count": 2,
   "id": "54c5f97e",
   "metadata": {},
   "outputs": [
    {
     "data": {
      "text/plain": [
       "6.283185307179586"
      ]
     },
     "execution_count": 2,
     "metadata": {},
     "output_type": "execute_result"
    }
   ],
   "source": [
    "#Q4.\n",
    "import math\n",
    "math.exp(20)\n",
    "math.pow(25,5)\n",
    "math.sqrt(2250)\n",
    "math.floor(6.325)\n",
    "math.log(25,5)\n",
    "math.ceil(5.75)\n",
    "math.fabs(-50)\n",
    "math.log10(1)\n",
    "math.cos(60)\n",
    "math.asin(1)\n",
    "math.degrees(math.pi/2)\n",
    "math.radians(360)"
   ]
  },
  {
   "cell_type": "code",
   "execution_count": 3,
   "id": "2fad37db",
   "metadata": {},
   "outputs": [
    {
     "name": "stdout",
     "output_type": "stream",
     "text": [
      "Enter a year: 2026\n",
      "2026 is not a leap year.\n"
     ]
    }
   ],
   "source": [
    "#Q5\n",
    "year=int(input(\"Enter a year: \"))\n",
    "if year % 4 == 0:\n",
    "  if year % 100 == 0:\n",
    "    if year % 400 == 0:\n",
    "      print(\"Leap year.\")\n",
    "    else:\n",
    "      print(f\"{year} is not a leap year.\")\n",
    "  else:\n",
    "    print(f\"{year} is a leap year.\")\n",
    "else:\n",
    "  print(f\"{year} is not a leap year.\")\n",
    "    "
   ]
  },
  {
   "cell_type": "code",
   "execution_count": null,
   "id": "dbe4c85f",
   "metadata": {},
   "outputs": [
    {
     "name": "stdout",
     "output_type": "stream",
     "text": [
      "What's the shape of building? \n",
      "1) Square? \n",
      "2) Rectangle? \n",
      "3) Circle ?\n",
      "Enter your choice: 1\n",
      "Enter a side of the building: 5\n",
      "Area of building is:  25\n"
     ]
    }
   ],
   "source": [
    "#Q6\n",
    "def square():\n",
    "    x=int(input(\"Enter a side of the building: \"))\n",
    "    print(\"Area of building is: \", x*x)\n",
    "def rectangle():\n",
    "    l=int(input(\"Enter the length of the building: \"))\n",
    "    b=int(input(\"Enter the breadth of the building: \"))\n",
    "    print(\"Area of the rectangle: \", l*b)\n",
    "def circle():\n",
    "    r=int(input(\"Enter the radius of the building: \"))\n",
    "    print(\"Area of the building is: \",3.14*(r**2))\n",
    "    \n",
    "print(\"What's the shape of building? \")\n",
    "print(\"1) Square? \")\n",
    "print(\"2) Rectangle? \") \n",
    "print(\"3) Circle ?\")\n",
    "\n",
    "while True :\n",
    "    choice=int(input(\"Enter your choice: \"))\n",
    "    if choice== 1:\n",
    "        square()\n",
    "    elif choice == 2:\n",
    "        rectangle()\n",
    "    elif choice == 3:\n",
    "        circle()\n",
    "        break\n",
    "    else:\n",
    "        print(\"Please check your options and try again\")\n",
    "        continue\n",
    "        \n",
    "        \n",
    "            \n"
   ]
  },
  {
   "cell_type": "code",
   "execution_count": 1,
   "id": "d99d15e8",
   "metadata": {},
   "outputs": [
    {
     "name": "stdout",
     "output_type": "stream",
     "text": [
      "Enter any number: 5\n",
      "The factorial of num is 120\n"
     ]
    }
   ],
   "source": [
    "#Q7\n",
    "num=int(input(\"Enter any number: \"))\n",
    "factorial=1\n",
    "if num < 0 :\n",
    "    print(\"Factorial doesn't exists for negative numbers.\")\n",
    "elif num==0 :\n",
    "    print(\"Factorial of 0 is 1.\")\n",
    "else :\n",
    "    for i in range(1,num+1):\n",
    "        factorial = factorial*i\n",
    "print(\"The factorial of num is\", factorial)"
   ]
  },
  {
   "cell_type": "code",
   "execution_count": 2,
   "id": "a3726c89",
   "metadata": {},
   "outputs": [
    {
     "name": "stdout",
     "output_type": "stream",
     "text": [
      "How many terms? 4\n",
      "Fibonnaci sequence\n",
      "0\n",
      "1\n",
      "1\n",
      "2\n"
     ]
    }
   ],
   "source": [
    "#Q8\n",
    "nterms=int(input(\"How many terms? \"))\n",
    "\n",
    "#fist two terms \n",
    "n1 , n2=0 ,1\n",
    "count=0\n",
    "\n",
    "if nterms<=0:\n",
    "    print(\"Enter a valid positive integer.\")\n",
    "elif nterms==1:\n",
    "    print(\"Fibonnaci sequence upto\", nterms)\n",
    "    print(n1)\n",
    "else:\n",
    "    print(\"Fibonnaci sequence\")\n",
    "    while count< nterms:\n",
    "        print(n1)\n",
    "        nth = n1+n2\n",
    "        #update values \n",
    "        n1 = n2\n",
    "        n2 = nth\n",
    "        count+= 1\n",
    "\n",
    "    \n"
   ]
  },
  {
   "cell_type": "code",
   "execution_count": 3,
   "id": "e6416315",
   "metadata": {},
   "outputs": [
    {
     "name": "stdout",
     "output_type": "stream",
     "text": [
      "Enter a number: 34\n",
      "Reverse= 43\n",
      "Enter a number: 65\n",
      "sum = 11\n"
     ]
    }
   ],
   "source": [
    "#Q9\n",
    "def reverse():\n",
    "    rev = 0\n",
    "    number=int(input(\"Enter a number: \"))\n",
    "    while number > 0 :\n",
    "        rev = (rev*10)+ number%10\n",
    "        number = number//10\n",
    "    print(\"Reverse=\", rev)\n",
    "reverse()\n",
    "\n",
    "def sum():\n",
    "    number = int(input(\"Enter a number: \"))\n",
    "    sum = 0\n",
    "    while number > 0:\n",
    "        a = number % 10\n",
    "        sum =sum + a\n",
    "        number = number//10\n",
    "    print(\"sum =\",sum)\n",
    "sum()"
   ]
  },
  {
   "cell_type": "code",
   "execution_count": 4,
   "id": "28c7171f",
   "metadata": {},
   "outputs": [
    {
     "name": "stdout",
     "output_type": "stream",
     "text": [
      "Enter the first number: 43\n",
      "Enter the second number: 65\n",
      "The LCM of x and y is 2795\n"
     ]
    }
   ],
   "source": [
    "#Q10\n",
    "def lcm(x,y):\n",
    "    if x > y :\n",
    "        greater = x \n",
    "    else : \n",
    "        greater = y\n",
    "    value = greater\n",
    "    while True:\n",
    "        if greater % x ==0 and greater % y == 0 :\n",
    "            print(f\"The LCM of x and y is {greater}\")\n",
    "            break\n",
    "        else:\n",
    "            greater = greater + value\n",
    "\n",
    "\n",
    "    \n",
    "x = int(input(\"Enter the first number: \"))\n",
    "y = int(input(\"Enter the second number: \"))\n",
    "lcm(x,y)\n"
   ]
  },
  {
   "cell_type": "code",
   "execution_count": 12,
   "id": "cca033d9",
   "metadata": {},
   "outputs": [
    {
     "name": "stdout",
     "output_type": "stream",
     "text": [
      "Enter a number: 7\n",
      "7 is a prime number\n",
      "7 is a prime number\n",
      "7 is not a prime number\n"
     ]
    }
   ],
   "source": [
    "#Q11\n",
    "def prime_checker():\n",
    "    num = int(input(\"Enter a number: \"))\n",
    "    if num > 1:\n",
    "        for i in range(2,int(num/2)+1):\n",
    "            if num % i == 0 :\n",
    "                print(f\"{num} is not a prime number\")\n",
    "                break\n",
    "            else:\n",
    "                print(f\"{num} is a prime number\")\n",
    "        else:\n",
    "            print(f\"{num} is not a prime number\")\n",
    "                      \n",
    "prime_checker()                \n",
    "            "
   ]
  },
  {
   "cell_type": "code",
   "execution_count": 25,
   "id": "407055a9",
   "metadata": {},
   "outputs": [
    {
     "name": "stdout",
     "output_type": "stream",
     "text": [
      "Enter a number: 5\n",
      "The sum is 5\n",
      "The sum is 9\n",
      "The sum is 12\n",
      "The sum is 14\n",
      "The sum is 15\n"
     ]
    }
   ],
   "source": [
    "#Q12\n",
    "def odd(): \n",
    "    sum = 0 \n",
    "    n = int(input(\"Print sum of odd numbers till: \"))\n",
    "    for i in range (0 , n+1): \n",
    "        if i % 2 == 1: \n",
    "            sum += i \n",
    "            print(\"term = \",i,\", sum till this step = \", sum ) \n",
    "        else: \n",
    "            continue \n",
    "            odd()\n",
    "\n",
    "def even(): \n",
    "    sum = 0 \n",
    "    n = int(input(\"Print sum of even numbers till: \")) \n",
    "    for i in range (0 , n+1): \n",
    "        if i % 2 == 0 : \n",
    "            sum += i\n",
    "            print(\"term = \",i,\", sum till this step = \", sum ) \n",
    "        else: \n",
    "            continue \n",
    "            even()\n",
    "\n",
    "#(c) \n",
    "num = int(input(\"Enter a number: \"))\n",
    "\n",
    "if num < 0:\n",
    "    print(\"Enter a positive number\")\n",
    "else:\n",
    "    sum = 0\n",
    "    while(num > 0):\n",
    "        sum += num\n",
    "        num -= 1\n",
    "        print(\"The sum is\",sum)"
   ]
  },
  {
   "cell_type": "code",
   "execution_count": 26,
   "id": "b18ff045",
   "metadata": {},
   "outputs": [
    {
     "name": "stdout",
     "output_type": "stream",
     "text": [
      "Enter a string: hello\n",
      "Not Palindrome\n"
     ]
    }
   ],
   "source": [
    "#Q13\n",
    "def Palindrome():\n",
    "    str = input(\"Enter a string: \")\n",
    "    revstr = (str[::-1])\n",
    "    if revstr == str:\n",
    "        print(\"Palindrome\")\n",
    "    else:\n",
    "        print(\"Not Palindrome\")\n",
    "\n",
    "Palindrome()"
   ]
  },
  {
   "cell_type": "code",
   "execution_count": 27,
   "id": "aaed92a6",
   "metadata": {},
   "outputs": [
    {
     "name": "stdout",
     "output_type": "stream",
     "text": [
      "Enter a string: hello Aaradhya\n",
      "String is hello Aaradhya\n",
      "{'h': 2, 'e': 1, 'l': 2, 'o': 1, ' ': 1, 'A': 1, 'a': 3, 'r': 1, 'd': 1, 'y': 1}\n"
     ]
    }
   ],
   "source": [
    "#Q14\n",
    "str = input(\"Enter a string: \")\n",
    "print(\"String is\" ,str)\n",
    "count = {}\n",
    "for x in str:\n",
    "    if x in count.keys():\n",
    "        count[x]+=1\n",
    "    else:\n",
    "        count[x]=1\n",
    "\n",
    "print(count)"
   ]
  },
  {
   "cell_type": "code",
   "execution_count": 28,
   "id": "9f78fa30",
   "metadata": {},
   "outputs": [
    {
     "name": "stdout",
     "output_type": "stream",
     "text": [
      "{1: 1, 2: 8, 3: 27, 4: 64, 5: 125}\n"
     ]
    }
   ],
   "source": [
    "#Q15\n",
    "d = dict()\n",
    "for x in range(1,5+1):\n",
    "    d[x]=x**3\n",
    "print(d)"
   ]
  },
  {
   "cell_type": "code",
   "execution_count": 29,
   "id": "8ccbef12",
   "metadata": {},
   "outputs": [
    {
     "name": "stdout",
     "output_type": "stream",
     "text": [
      "(1, 2, 5, 7, 9)\n",
      "(2, 4, 6, 8, 10)\n",
      "(0, 2, 4, 6, 8)\n",
      "[1, 2, 3, 4, 5, 6, 7, 8, 9, 10, 11, 13, 15]\n",
      "max no. is 10\n",
      "min no. is 1\n"
     ]
    }
   ],
   "source": [
    "#Q16\n",
    "#a.\n",
    "t1=(1,2,5,7,9,2,4,6,8,10)\n",
    "t2=(11,13,15)\n",
    "\n",
    "#a)\n",
    "def printing():\n",
    "    length = int(len(t1)/2)\n",
    "    print(t1[:length])\n",
    "    print(t1[length:])\n",
    "printing()\n",
    "    \n",
    "#b.\n",
    "def print_even():\n",
    "    another_tuple = []\n",
    "    for i in range(len(t1)):\n",
    "        if i % 2 == 0 :\n",
    "            another_tuple.append(i)\n",
    "        else:\n",
    "            continue\n",
    "    another_tuple = tuple(another_tuple)\n",
    "    print(another_tuple)\n",
    "\n",
    "print_even()\n",
    "\n",
    "#c)\n",
    "t1=(1,2,3,4,5,6,7,8,9,10)\n",
    "t2=(11,13,15)\n",
    "a=list(t1)\n",
    "b=list(t2)\n",
    "c=(a+b)\n",
    "print(c)\n",
    "\n",
    "#d)\n",
    "t1=(1,2,3,4,5,6,7,8,9,10)\n",
    "max(t1)\n",
    "min(t2)\n",
    "print('max no. is',max(t1))\n",
    "print('min no. is',min(t1))\n",
    "\n",
    "\n",
    "\n",
    "    "
   ]
  },
  {
   "cell_type": "code",
   "execution_count": 31,
   "id": "370f1488",
   "metadata": {},
   "outputs": [
    {
     "name": "stdout",
     "output_type": "stream",
     "text": [
      "Enter the number of elements you would wish to add to the list :5\n",
      "Enter element: 23\n",
      "Enter element: 34\n",
      "Enter element: 45\n",
      "Enter element: 56\n",
      "Enter element: 23\n",
      "Your entered list is : [23, 34, 45, 56, 23]\n"
     ]
    }
   ],
   "source": [
    "# Q17\n",
    "def check_duplicates():\n",
    "    l=[]\n",
    "    l2=[]\n",
    "    n = int(input(\"Enter the number of elements you would wish to add to the list :\"))\n",
    "    for i in range (n) :\n",
    "        x = int(input(\"Enter element: \"))\n",
    "        l.append(x)\n",
    "    print(\"Your entered list is :\",l)\n",
    "    for i in range (n):\n",
    "        if l[i] not in l2:\n",
    "            l2.append(i)\n",
    "        else:\n",
    "            print(\"Element repeated is:\",i)\n",
    "\n",
    "check_duplicates()"
   ]
  },
  {
   "cell_type": "code",
   "execution_count": 32,
   "id": "7d42916b",
   "metadata": {},
   "outputs": [
    {
     "name": "stdout",
     "output_type": "stream",
     "text": [
      "Enter length: 5\n",
      "Enter breadth: 8\n",
      "Area of Rectangle is: 40\n",
      "destructor call!!\n",
      "Perimeter of Rectangle is: None\n"
     ]
    }
   ],
   "source": [
    "#Q18\n",
    "class rectangle():\n",
    "    def __init__(self,l,b):\n",
    "        self.l=l\n",
    "        self.b=b\n",
    "    def area(self):\n",
    "        return self.l*self.b\n",
    "    def perimeter(self):\n",
    "        print('destructor call!!')\n",
    "l=int(input(\"Enter length: \"))\n",
    "b=int(input(\"Enter breadth: \"))\n",
    "a=rectangle(l,b)\n",
    "print(\"Area of Rectangle is:\",a.area())\n",
    "print(\"Perimeter of Rectangle is:\",a.perimeter())"
   ]
  },
  {
   "cell_type": "code",
   "execution_count": null,
   "id": "2b4becd0",
   "metadata": {},
   "outputs": [
    {
     "name": "stdout",
     "output_type": "stream",
     "text": [
      "\"\n",
      "a.Find the length of string\n",
      "b.Return maximum of three strings\n",
      "c.Accept a string and replace every successive character with ‘#’ Example\u0002For Given string ‘Hello World’ retur\n",
      "d.Find number of words in the given string\n",
      "Kindly enter a string: Hello Aaradhya how are you\n",
      "Enter a choice: a\n",
      "Length of inputed string is :  26\n",
      "Enter a choice: c\n",
      " H#l#oA#r#d#y##o##r##o#\n",
      "Enter a choice: d\n",
      "Number of words in the given string are:  5\n",
      "Enter a choice: b\n"
     ]
    }
   ],
   "source": [
    "#Q19\n",
    "#a.\n",
    "def length(str):\n",
    "    l = len(str)\n",
    "    print(\"Length of inputed string is : \",l)\n",
    "    \n",
    "#b.\n",
    "def max(str):\n",
    "    string = str\n",
    "    for s in string:\n",
    "      sa = string.split()\n",
    "      print(max(s))\n",
    "\n",
    "#c\n",
    "def changer_hash(str):\n",
    "    str2 = \" \"\n",
    "    for i in range(0 , len(str)):\n",
    "        if str[i] == \" \":\n",
    "            str+= \" \"\n",
    "        elif i %2 == 0 :\n",
    "            str2+= str[i]\n",
    "        else:\n",
    "            str2+= \"#\"\n",
    "    print(str2)\n",
    "\n",
    "#d.\n",
    "def counter(str):\n",
    "    string = str.split()\n",
    "    l = len(string)\n",
    "    print(\"Number of words in the given string are: \",l)\n",
    "    \n",
    "print(\"\"\"\"\n",
    "a.Find the length of string\n",
    "b.Return maximum of three strings\n",
    "c.Accept a string and replace every successive character with ‘#’ Example\u0002For Given string ‘Hello World’ retur\n",
    "d.Find number of words in the given string\"\"\")\n",
    "str = input(\"Kindly enter a string: \")\n",
    "while True:\n",
    "    x = input(\"Enter a choice: \")\n",
    "    if x == \"a\":\n",
    "        length(str)\n",
    "    elif x == \"b\":\n",
    "        max(str)\n",
    "    elif x == \"c\":\n",
    "        changer_hash(str)\n",
    "    elif x == \"d\":\n",
    "        counter(str)\n",
    "    else:\n",
    "        print(\"You gotta pay attention here , have another try ____\")\n",
    "        \n",
    "    \n"
   ]
  },
  {
   "cell_type": "code",
   "execution_count": null,
   "id": "5db98795",
   "metadata": {},
   "outputs": [],
   "source": [
    "#Q19\n",
    "\n",
    "a = input(\"Enter any string: \")\n",
    "a = a+\" \"\n",
    "c = 0\n",
    "r=\"\"\n",
    "str=\"\"\n",
    "l = len(a)\n",
    "\n",
    "#a)\n",
    "print(\"length: \",l)\n",
    "\n",
    "#b)\n",
    "a = input(\"Enter 1st: \")\n",
    "b = input(\"Enter 2nd: \")\n",
    "c = input(\"Enter 3rd: \")\n",
    "m = max(len(a),len(b),len(c))\n",
    "if m == len(a):\n",
    "    s=a\n",
    "if m == len(b):\n",
    "    s=b\n",
    "if m == len(c):\n",
    "    s=c\n",
    "print(\"Maixmum: \",s)\n",
    "\n",
    "#c)\n",
    "for x in range(0,l):\n",
    "    if a[x]!= ' ':\n",
    "        r=r+a[x]\n",
    "        \n",
    "    elif a[x]==' ':\n",
    "        c+=1\n",
    "        for s in range(0,len(r)):\n",
    "            if s%2!=0:\n",
    "                str=str+'#'\n",
    "            elif s%2==0:\n",
    "                str=str+r[s]\n",
    "            str=str+' '\n",
    "            r=\"\"\n",
    "            \n",
    "#d)\n",
    "print(\"Number of words \",c)\n",
    "print(str)"
   ]
  },
  {
   "cell_type": "code",
   "execution_count": 5,
   "id": "2b8015f2",
   "metadata": {},
   "outputs": [
    {
     "name": "stdout",
     "output_type": "stream",
     "text": [
      "Enter Choice :b\n",
      "Enter 1st string: Studying \n",
      "Enter 2nd string: Statitics\n",
      "Enter 3rd string: Hons \n",
      "Maixmum:  Statitics\n"
     ]
    }
   ],
   "source": [
    "#OR\n",
    "#Q19 using functions\n",
    "def A():\n",
    "    a = input(\"Enter any string: \")\n",
    "    l=len(a)\n",
    "    print(\"The length of the string is: \",l)\n",
    "    \n",
    "def B():\n",
    "    a = input(\"Enter 1st string: \")\n",
    "    b = input(\"Enter 2nd string: \")\n",
    "    c = input(\"Enter 3rd string: \")\n",
    "    m = max(len(a),len(b),len(c))\n",
    "    if m == len(a):\n",
    "        s=a\n",
    "    if m == len(b):\n",
    "        s=b\n",
    "    if m == len(c):\n",
    "        s=c\n",
    "    print(\"Maixmum: \",s)\n",
    "    \n",
    "def C():\n",
    "    a=input(\"Enter a string: \")\n",
    "    a=a+\" \"\n",
    "    r=\"\"\n",
    "    str=\"\"\n",
    "    l=len(a)\n",
    "    for x in range(0,l):\n",
    "        if a[x]!= ' ':\n",
    "            r=r+a[x]\n",
    "        \n",
    "        elif a[x]==' ':\n",
    "       \n",
    "            for s in range(0,len(r)):\n",
    "                if s%2!=0:\n",
    "                    str=str+'#'\n",
    "                elif s%2==0:\n",
    "                    str=str+r[s]\n",
    "                str=str+' '\n",
    "                r=\"\"\n",
    "        print(str)\n",
    "\n",
    "def D():\n",
    "    a=input(\"Enter a string: \")\n",
    "    a=a+\" \"\n",
    "    c=0\n",
    "    r=\"\"\n",
    "    l=len(a)\n",
    "    for x in range (0,l):\n",
    "        if a[x]!=' ':\n",
    "            r=r+a[x]\n",
    "        elif a[x]==' ':\n",
    "            c+=1\n",
    "    print(c)\n",
    "\n",
    "f=input(\"Enter Choice :\")\n",
    "if f=='a':\n",
    "    A()\n",
    "    \n",
    "if f=='b':\n",
    "    B()\n",
    "if f=='c':\n",
    "    C()\n",
    "if f=='d':\n",
    "    D()\n",
    "        \n",
    "        \n",
    "        \n",
    "                \n"
   ]
  },
  {
   "cell_type": "code",
   "execution_count": null,
   "id": "90a8410a",
   "metadata": {},
   "outputs": [],
   "source": [
    "#Q20\n",
    "def inList():                                                                                                                                                                                                    \n",
    "    num = input(\"Enter input :   \").split()\n",
    "    n = list(num)\n",
    "    for i in n:\n",
    "        if not i.isdigit():\n",
    "            print('not no.')\n",
    "            break\n",
    "        else:\n",
    "            print('all are number')\n",
    "            r = list(map (int,input('Enter input again :  ').split()))\n",
    "            oddNo = 0\n",
    "            for i in r:\n",
    "                if (i % 2) != 0:\n",
    "                    oddNo += 1\n",
    "            print('Total odd no in the list is:', oddNo)\n",
    "            break\n",
    "    for i in n:\n",
    "        if i.isalpha():\n",
    "            print('The largest string is:   ', max(n))\n",
    "# for reversing the input string\n",
    "            h = n[-1::-1]\n",
    "            print(\"The reverse of input list is  \",h)\n",
    "# to find if the entered element is present in the input string\n",
    "            found=input('Enter the element:  ')\n",
    "            def findEle():\n",
    "                for i in num:\n",
    "                    if i == found:\n",
    "                        print('Element found')\n",
    "                        break\n",
    "            findEle()\n",
    "# to remove an element from the input string\n",
    "            def delEle():\n",
    "                k = found\n",
    "                str = []\n",
    "                for i in num:\n",
    "                    if i != k:\n",
    "                        str.append(i)\n",
    "                print ('Element',k,'\" Deleted ')\n",
    "# to print updated list\n",
    "                print('Updated list',str)\n",
    "            delEle()\n",
    "            break\n",
    "inList()\n"
   ]
  },
  {
   "cell_type": "code",
   "execution_count": 1,
   "id": "61b1253f",
   "metadata": {},
   "outputs": [
    {
     "name": "stdout",
     "output_type": "stream",
     "text": [
      "Enter any number: 6\n",
      "Found at  4\n"
     ]
    }
   ],
   "source": [
    "#Q22\n",
    "#linear Search \n",
    "def search(list , n):\n",
    "    \n",
    "    for i in range (0,len(list)):\n",
    "        if list[i] == n:\n",
    "           globals()['pos'] = list.index(n)\n",
    "           return True\n",
    "        \n",
    "    return False\n",
    "\n",
    "list=[5,8,4,6,7,9]\n",
    "n=int(input(\"Enter any number: \"))\n",
    "\n",
    "if search(list , n):\n",
    "    print(\"Found at \",pos+1)\n",
    "else:\n",
    "    print(\"Not Found\")\n",
    "    \n",
    "    \n"
   ]
  },
  {
   "cell_type": "code",
   "execution_count": 2,
   "id": "bc514c48",
   "metadata": {},
   "outputs": [
    {
     "name": "stdout",
     "output_type": "stream",
     "text": [
      "Enter any number: 7\n",
      "Found at  5\n"
     ]
    }
   ],
   "source": [
    "#Binary search\n",
    "pos = -1\n",
    "\n",
    "def search(list ,n):\n",
    "    l = 0\n",
    "    u = len(list)-1\n",
    "    \n",
    "    while l <= u:\n",
    "        mid = (l+u)//2      #// give sthe integer divison\n",
    "\n",
    "        if list[mid] == n:\n",
    "            globals()['pos'] = mid\n",
    "            return True \n",
    "        else :\n",
    "            if list[mid] < n:\n",
    "                l = mid+1\n",
    "            else :\n",
    "                u = mid-1\n",
    "    return False\n",
    "\n",
    "list=[5,8,4,6,7,9]\n",
    "n=int(input(\"Enter any number: \"))\n",
    "\n",
    "if search(list,n):\n",
    "    print(\"Found at \",pos+1)\n",
    "else:\n",
    "    print(\"Not Found\")\n",
    "    "
   ]
  },
  {
   "cell_type": "code",
   "execution_count": 3,
   "id": "85b369cc",
   "metadata": {},
   "outputs": [
    {
     "name": "stdout",
     "output_type": "stream",
     "text": [
      "How many elements you want in your list: 4\n",
      "Enter number: 34\n",
      "Enter number: 45\n",
      "Enter number: 56\n",
      "Enter number: 67\n",
      "[34, 45, 56, 67]\n",
      "Enter number to search: 56\n",
      "Value found at  3 position\n"
     ]
    }
   ],
   "source": [
    "#Q22\n",
    "#Another method for linear search\n",
    "def linear_search(a,key):\n",
    "    for i in range(len(a)):\n",
    "        if key == a[i]:\n",
    "            pos = i\n",
    "            print(\"Value found at \",pos+1,\"position\")\n",
    "            break\n",
    "    else:\n",
    "        print(\"Value not found\")\n",
    "\n",
    "n = int(input(\"How many elements you want in your list: \"))\n",
    "a = [ ]\n",
    "for i in range(n):\n",
    "    value = int(input(\"Enter number: \"))\n",
    "    a.append(value)\n",
    "print(a)\n",
    "    \n",
    "key = int(input(\"Enter number to search: \"))\n",
    "linear_search(a,key)    \n",
    "        \n",
    "    \n",
    "    "
   ]
  },
  {
   "cell_type": "code",
   "execution_count": 1,
   "id": "cc8e6181",
   "metadata": {},
   "outputs": [
    {
     "name": "stdout",
     "output_type": "stream",
     "text": [
      "How many elements you want in your list: 5\n",
      "Enter number: 4\n",
      "Enter number: 6\n",
      "Enter number: 7\n",
      "Enter number: 8\n",
      "Enter number: 9\n",
      "[4, 6, 7, 8, 9]\n",
      "Enter number to search: 7\n",
      "No. found at  3 position\n"
     ]
    }
   ],
   "source": [
    "#Another method for binary search\n",
    "def binary_search(a,n,key):\n",
    "    i = 0\n",
    "    j = n-1\n",
    "    flag = 0\n",
    "    while i < j and flag == 0 :\n",
    "        mid = (i+j)//2\n",
    "        if a[mid]==key:\n",
    "            flag = 1\n",
    "            pos = mid+1\n",
    "        elif a[mid] > 1:\n",
    "            j = mid-1\n",
    "        elif a[mid] < key:\n",
    "            l = mid +1\n",
    "    if flag ==1:\n",
    "        print(\"No. found at \",pos,\"position\")\n",
    "    else:\n",
    "        print(\"No. not found\")\n",
    "    \n",
    "n = int(input(\"How many elements you want in your list: \"))\n",
    "a = []\n",
    "for i in range(n):\n",
    "    value = int(input(\"Enter number: \"))\n",
    "    a.append(value)\n",
    "print(a)\n",
    "    \n",
    "key = int(input(\"Enter number to search: \"))\n",
    "binary_search(a,n,key)    \n"
   ]
  },
  {
   "cell_type": "code",
   "execution_count": 2,
   "id": "5f4fef58",
   "metadata": {},
   "outputs": [
    {
     "name": "stdout",
     "output_type": "stream",
     "text": [
      "How many elements you want in your list: 5\n",
      "Enter number: 23\n",
      "Enter number: 78\n",
      "Enter number: 65\n",
      "Enter number: 98\n",
      "Enter number: 34\n",
      "[23, 78, 65, 98, 34]\n",
      "Sorted list is: \n",
      "[23, 34, 65, 78, 98]\n"
     ]
    }
   ],
   "source": [
    "#Q23\n",
    "#Bubble sort\n",
    "n = int(input(\"How many elements you want in your list: \"))\n",
    "a = []\n",
    "for i in range(n):\n",
    "    value = int(input(\"Enter number: \"))\n",
    "    a.append(value)\n",
    "print(a)\n",
    "\n",
    "for i in range(n):\n",
    "    for j in range(0, n-i-1):\n",
    "        if a[j] > a[j+1]:\n",
    "            t=a[j]\n",
    "            a[j]=a[j+1]\n",
    "            a[j+1]=t\n",
    "print(\"Sorted list is: \")\n",
    "print(a)\n",
    "\n"
   ]
  },
  {
   "cell_type": "code",
   "execution_count": 4,
   "id": "c0d26560",
   "metadata": {},
   "outputs": [
    {
     "name": "stdout",
     "output_type": "stream",
     "text": [
      "How many elements you want in your list: 5\n",
      "Enter number: 23\n",
      "Enter number: 987\n",
      "Enter number: 540\n",
      "Enter number: 382\n",
      "Enter number: 192\n",
      "Sorted Arrray is: \n",
      "[23, 192, 382, 540, 987]\n"
     ]
    }
   ],
   "source": [
    "#Q23\n",
    "#Insertion sort\n",
    "n = int(input(\"How many elements you want in your list: \"))\n",
    "a = []\n",
    "for i in range(n):\n",
    "    value = int(input(\"Enter number: \"))\n",
    "    a.append(value)\n",
    "\n",
    "for i in range(1,n):\n",
    "    t =a[i]\n",
    "    j = i-1\n",
    "    while j>=0 and t<a[j]:\n",
    "        a[j+1]=a[j]\n",
    "        j=j-1\n",
    "    a[j+1]=t\n",
    "print(\"Sorted Arrray is: \")\n",
    "print(a)"
   ]
  },
  {
   "cell_type": "code",
   "execution_count": null,
   "id": "7b0f7931",
   "metadata": {},
   "outputs": [],
   "source": []
  }
 ],
 "metadata": {
  "kernelspec": {
   "display_name": "Python 3 (ipykernel)",
   "language": "python",
   "name": "python3"
  },
  "language_info": {
   "codemirror_mode": {
    "name": "ipython",
    "version": 3
   },
   "file_extension": ".py",
   "mimetype": "text/x-python",
   "name": "python",
   "nbconvert_exporter": "python",
   "pygments_lexer": "ipython3",
   "version": "3.10.1"
  }
 },
 "nbformat": 4,
 "nbformat_minor": 5
}
